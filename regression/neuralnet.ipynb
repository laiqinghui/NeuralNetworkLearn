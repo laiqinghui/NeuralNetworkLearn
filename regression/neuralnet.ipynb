{
 "cells": [
  {
   "cell_type": "code",
   "execution_count": 22,
   "metadata": {},
   "outputs": [],
   "source": [
    "import tensorflow as tf\n",
    "import pandas as pd\n",
    "import numpy as np\n",
    "\n",
    "from sklearn.model_selection import train_test_split\n",
    "from sklearn import preprocessing\n",
    "\n",
    "from matplotlib import pyplot as plt"
   ]
  },
  {
   "cell_type": "code",
   "execution_count": 23,
   "metadata": {},
   "outputs": [],
   "source": [
    "NUM_NEURON = 10\n",
    "NUM_FEATURES = 7\n",
    "\n",
    "learning_rate = 10**-3\n",
    "beta = 10**-3\n",
    "\n",
    "epochs = 1500\n",
    "batch_size = 8\n",
    "\n",
    "df = pd.read_csv(\"data/admission_predict.csv\")\n",
    "df = df.drop(['Serial No.'], axis=1)\n",
    "\n",
    "y = df['Chance of Admit'].to_numpy()\n",
    "y = np.reshape(y, (y.shape[0], 1))\n",
    "\n",
    "\n",
    "#Optimized one \n",
    "features = df.drop([\"Chance of Admit\"], axis=1).to_numpy()"
   ]
  },
  {
   "cell_type": "code",
   "execution_count": 24,
   "metadata": {},
   "outputs": [],
   "source": [
    "def neural_net(x):\n",
    "    #hidden layer 1\n",
    "    layer_1 = tf.add(tf.matmul(x, weights['h1']), biases['b1'])\n",
    "    layer_1 = tf.nn.relu(layer_1) #activation function\n",
    "    \n",
    "    out_layer = tf.matmul(layer_1, weights['out']) + biases['out']\n",
    "    return (out_layer)\n",
    "\n",
    "\n",
    "weights = {\n",
    "    'h1': tf.Variable(tf.random_normal([NUM_FEATURES, NUM_NEURON], seed=1337)),\n",
    "    'out': tf.Variable(tf.random_normal([NUM_NEURON, 1], seed=1337))# 1 ouput label\n",
    "}\n",
    "\n",
    "biases = {\n",
    "    'b1': tf.Variable(tf.random_normal([10], seed=1337)),\n",
    "    'out': tf.Variable(tf.random_normal([1], seed=1337))\n",
    "}"
   ]
  },
  {
   "cell_type": "code",
   "execution_count": 25,
   "metadata": {
    "scrolled": true
   },
   "outputs": [
    {
     "name": "stdout",
     "output_type": "stream",
     "text": [
      "Batch Train Err 7 features:\n",
      "0.29753163\n",
      "0.41722623\n"
     ]
    }
   ],
   "source": [
    "np.random.seed(1337)\n",
    "tf.set_random_seed(1337)\n",
    "\n",
    "#Create model\n",
    "X = tf.placeholder(tf.float32, [None, NUM_FEATURES])\n",
    "Y = tf.placeholder(tf.float32, [None, 1])\n",
    "\n",
    "\n",
    "x_train, x_test, y_train, y_test = train_test_split(features, y, test_size=0.3)\n",
    "scaler = preprocessing.StandardScaler()\n",
    "x_train = scaler.fit_transform(x_train)\n",
    "x_test = scaler.transform(x_test)\n",
    "\n",
    "#predicted value\n",
    "Y_hat = neural_net(X)\n",
    "optimizer = tf.train.GradientDescentOptimizer(learning_rate)\n",
    "loss = tf.reduce_mean(tf.square(Y - Y_hat)) \n",
    "reg = tf.nn.l2_loss(weights['h1']) + tf.nn.l2_loss(weights['out'])\n",
    "train_op = optimizer.minimize(loss + reg * beta)\n",
    "\n",
    "\n",
    "with tf.Session() as sess:\n",
    "    sess.run(tf.global_variables_initializer())\n",
    "    batch_train_err = []\n",
    "    test_err = []\n",
    "    for i in range(epochs):\n",
    "\n",
    "        #Batch training\n",
    "        #pick random batch_size data points from x_train\n",
    "        rand_index = np.random.choice(x_train.shape[0], size=batch_size)\n",
    "        x_batch = x_train[rand_index]\n",
    "        y_batch = y_train[rand_index]\n",
    "\n",
    "        train_op.run(feed_dict={X:x_batch, Y:y_batch})\n",
    "        batch_train_err.append(loss.eval(feed_dict={X: x_batch, Y: y_batch}))\n",
    "        test_err.append(loss.eval(feed_dict={X: x_test, Y: y_test}))   \n",
    "\n",
    "\n",
    "    sample_index = np.random.choice(x_test.shape[0], size=50)\n",
    "    x_test_sample = x_test[sample_index]\n",
    "    y_test_sample = y_test[sample_index]\n",
    "    #plot y_hat and y_test\n",
    "\n",
    "    pred = sess.run(Y_hat, feed_dict={X:x_test_sample})\n",
    "\n",
    "print(\"Batch Train Err \" + str(NUM_FEATURES) + \" features:\")\n",
    "print (batch_train_err[-1])\n",
    "print (test_err[-1])"
   ]
  }
 ],
 "metadata": {
  "kernelspec": {
   "display_name": "Python 3",
   "language": "python",
   "name": "python3"
  },
  "language_info": {
   "codemirror_mode": {
    "name": "ipython",
    "version": 3
   },
   "file_extension": ".py",
   "mimetype": "text/x-python",
   "name": "python",
   "nbconvert_exporter": "python",
   "pygments_lexer": "ipython3",
   "version": "3.7.4"
  }
 },
 "nbformat": 4,
 "nbformat_minor": 2
}
