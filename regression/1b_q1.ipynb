{
 "cells": [
  {
   "cell_type": "code",
   "execution_count": 14,
   "metadata": {},
   "outputs": [],
   "source": [
    "import tensorflow as tf\n",
    "import pandas as pd\n",
    "import numpy as np\n",
    "\n",
    "from sklearn.model_selection import train_test_split\n",
    "from sklearn import preprocessing\n",
    "\n",
    "from matplotlib import pyplot as plt\n",
    "\n"
   ]
  },
  {
   "cell_type": "code",
   "execution_count": 15,
   "metadata": {},
   "outputs": [],
   "source": [
    "df = pd.read_csv(\"data/admission_predict.csv\")\n",
    "df = df.drop(['Serial No.'], axis=1)\n",
    "\n",
    "y = df['Chance of Admit'].to_numpy()\n",
    "y = np.reshape(y, (y.shape[0], 1))\n",
    "\n",
    "features = df.drop([\"Chance of Admit\"], axis=1).to_numpy()\n",
    "\n",
    "np.random.seed(1337)\n",
    "tf.set_random_seed(1337)\n",
    "\n"
   ]
  },
  {
   "cell_type": "code",
   "execution_count": 16,
   "metadata": {},
   "outputs": [],
   "source": [
    "NUM_FEATURES = 7\n",
    "NUM_NEURON = 10\n",
    "\n",
    "learning_rate = 10**-3\n",
    "beta = 10**-3\n",
    "\n",
    "epochs = 1500\n",
    "batch_size = 8\n",
    "\n"
   ]
  },
  {
   "cell_type": "code",
   "execution_count": 17,
   "metadata": {},
   "outputs": [],
   "source": [
    "x_train, x_test, y_train, y_test = train_test_split(features, y, test_size=0.3, random_state=42)"
   ]
  },
  {
   "cell_type": "code",
   "execution_count": 18,
   "metadata": {},
   "outputs": [],
   "source": [
    "scaler = preprocessing.StandardScaler()\n",
    "x_train = scaler.fit_transform(x_train)\n",
    "x_test = scaler.transform(x_test)"
   ]
  },
  {
   "cell_type": "code",
   "execution_count": 19,
   "metadata": {},
   "outputs": [],
   "source": [
    "#Create model\n",
    "#7 inputs, 1 output\n",
    "\n",
    "X = tf.placeholder(tf.float32, [None, NUM_FEATURES])\n",
    "Y = tf.placeholder(tf.float32, [None, 1])"
   ]
  },
  {
   "cell_type": "code",
   "execution_count": 20,
   "metadata": {},
   "outputs": [],
   "source": [
    "weights = {\n",
    "    'h1': tf.Variable(tf.random_normal([NUM_FEATURES, NUM_NEURON])),\n",
    "    'out': tf.Variable(tf.random_normal([NUM_NEURON, 1]))# 1 ouput label\n",
    "}\n",
    "\n",
    "biases = {\n",
    "    'b1': tf.Variable(tf.random_normal([10])),\n",
    "    'out': tf.Variable(tf.random_normal([1]))\n",
    "}"
   ]
  },
  {
   "cell_type": "code",
   "execution_count": 21,
   "metadata": {},
   "outputs": [],
   "source": [
    "def neural_net(x):\n",
    "    #hidden layer 1\n",
    "    layer_1 = tf.add(tf.matmul(x, weights['h1']), biases['b1'])\n",
    "    layer_1 = tf.nn.relu(layer_1) #activation function\n",
    "    \n",
    "    out_layer = tf.matmul(layer_1, weights['out']) + biases['out']\n",
    "    return (out_layer)"
   ]
  },
  {
   "cell_type": "code",
   "execution_count": 22,
   "metadata": {},
   "outputs": [],
   "source": [
    "#predicted value\n",
    "Y_hat = neural_net(X)\n",
    "\n",
    "optimizer = tf.train.GradientDescentOptimizer(learning_rate)\n",
    "loss = tf.reduce_mean(tf.square(Y - Y_hat)) \n",
    "reg = tf.nn.l2_loss(weights['h1']) + tf.nn.l2_loss(weights['out'])\n",
    "\n",
    "\n",
    "train_op = optimizer.minimize(loss + reg * beta)"
   ]
  },
  {
   "cell_type": "code",
   "execution_count": 23,
   "metadata": {},
   "outputs": [
    {
     "name": "stdout",
     "output_type": "stream",
     "text": [
      "iter 0: train error 42.0976, test error 23.0742\n",
      "iter 10: train error 7.01346, test error 11.689\n",
      "iter 20: train error 5.14968, test error 7.51957\n",
      "iter 30: train error 5.2222, test error 5.67908\n",
      "iter 40: train error 2.85575, test error 4.72288\n",
      "iter 50: train error 6.28163, test error 4.23747\n",
      "iter 60: train error 4.98061, test error 3.83388\n",
      "iter 70: train error 9.79056, test error 3.61097\n",
      "iter 80: train error 8.48301, test error 3.32245\n",
      "iter 90: train error 1.88898, test error 3.12229\n",
      "iter 100: train error 2.47963, test error 3.11196\n",
      "iter 110: train error 2.27695, test error 3.05803\n",
      "iter 120: train error 4.0546, test error 2.77346\n",
      "iter 130: train error 3.53708, test error 2.66609\n",
      "iter 140: train error 2.37732, test error 2.61209\n",
      "iter 150: train error 0.991057, test error 2.50283\n",
      "iter 160: train error 1.70016, test error 2.52232\n",
      "iter 170: train error 2.07316, test error 2.40008\n",
      "iter 180: train error 2.32287, test error 2.33785\n",
      "iter 190: train error 3.3129, test error 2.27509\n",
      "iter 200: train error 0.920367, test error 2.25475\n",
      "iter 210: train error 2.85514, test error 2.17008\n",
      "iter 220: train error 1.47269, test error 2.13441\n",
      "iter 230: train error 1.74417, test error 2.11384\n",
      "iter 240: train error 2.51803, test error 2.09745\n",
      "iter 250: train error 1.99728, test error 2.06934\n",
      "iter 260: train error 1.86883, test error 1.93068\n",
      "iter 270: train error 1.74047, test error 1.84586\n",
      "iter 280: train error 1.36774, test error 1.87349\n",
      "iter 290: train error 5.25145, test error 1.82953\n",
      "iter 300: train error 0.588807, test error 1.74659\n",
      "iter 310: train error 0.691375, test error 1.69337\n",
      "iter 320: train error 0.966525, test error 1.65661\n",
      "iter 330: train error 4.28379, test error 1.61503\n",
      "iter 340: train error 1.3434, test error 1.57987\n",
      "iter 350: train error 2.14526, test error 1.55188\n",
      "iter 360: train error 0.792995, test error 1.52137\n",
      "iter 370: train error 0.861878, test error 1.50627\n",
      "iter 380: train error 2.22804, test error 1.47545\n",
      "iter 390: train error 1.032, test error 1.4494\n",
      "iter 400: train error 1.72052, test error 1.40173\n",
      "iter 410: train error 0.635628, test error 1.40919\n",
      "iter 420: train error 1.07687, test error 1.437\n",
      "iter 430: train error 5.05293, test error 1.39387\n",
      "iter 440: train error 1.38578, test error 1.42863\n",
      "iter 450: train error 0.738471, test error 1.36968\n",
      "iter 460: train error 1.94465, test error 1.28428\n",
      "iter 470: train error 1.07002, test error 1.2491\n",
      "iter 480: train error 1.47653, test error 1.2102\n",
      "iter 490: train error 3.10628, test error 1.20593\n",
      "iter 500: train error 1.46817, test error 1.17597\n",
      "iter 510: train error 0.679454, test error 1.1632\n",
      "iter 520: train error 2.5525, test error 1.13389\n",
      "iter 530: train error 0.342708, test error 1.11065\n",
      "iter 540: train error 2.43586, test error 1.09334\n",
      "iter 550: train error 0.733321, test error 1.0576\n",
      "iter 560: train error 0.614277, test error 1.04397\n",
      "iter 570: train error 0.85828, test error 1.03202\n",
      "iter 580: train error 0.776757, test error 1.01376\n",
      "iter 590: train error 1.76839, test error 0.999555\n",
      "iter 600: train error 1.08389, test error 0.991038\n",
      "iter 610: train error 1.35719, test error 0.959326\n",
      "iter 620: train error 0.221108, test error 0.942115\n",
      "iter 630: train error 0.869682, test error 0.930464\n",
      "iter 640: train error 1.35561, test error 0.914954\n",
      "iter 650: train error 0.31625, test error 0.901404\n",
      "iter 660: train error 1.24437, test error 0.88794\n",
      "iter 670: train error 0.284195, test error 0.879318\n",
      "iter 680: train error 1.54446, test error 0.872367\n",
      "iter 690: train error 0.50254, test error 0.857144\n",
      "iter 700: train error 1.00894, test error 0.842378\n",
      "iter 710: train error 0.42646, test error 0.836282\n",
      "iter 720: train error 0.566414, test error 0.817478\n",
      "iter 730: train error 0.645251, test error 0.812525\n",
      "iter 740: train error 0.266392, test error 0.79949\n",
      "iter 750: train error 0.717222, test error 0.792492\n",
      "iter 760: train error 1.06913, test error 0.772375\n",
      "iter 770: train error 0.91503, test error 0.764315\n",
      "iter 780: train error 1.31416, test error 0.754164\n",
      "iter 790: train error 0.654985, test error 0.741112\n",
      "iter 800: train error 0.75376, test error 0.724732\n",
      "iter 810: train error 0.371622, test error 0.721892\n",
      "iter 820: train error 0.425598, test error 0.718936\n",
      "iter 830: train error 0.820538, test error 0.720929\n",
      "iter 840: train error 0.828555, test error 0.721432\n",
      "iter 850: train error 0.786184, test error 0.704794\n",
      "iter 860: train error 0.677903, test error 0.703396\n",
      "iter 870: train error 0.463136, test error 0.685983\n",
      "iter 880: train error 0.203879, test error 0.6784\n",
      "iter 890: train error 0.606246, test error 0.671758\n",
      "iter 900: train error 0.294229, test error 0.657\n",
      "iter 910: train error 0.357492, test error 0.651449\n",
      "iter 920: train error 0.801708, test error 0.645431\n",
      "iter 930: train error 0.436668, test error 0.637294\n",
      "iter 940: train error 0.602496, test error 0.625845\n",
      "iter 950: train error 0.760582, test error 0.612235\n",
      "iter 960: train error 0.169511, test error 0.609439\n",
      "iter 970: train error 0.250876, test error 0.609639\n",
      "iter 980: train error 0.233345, test error 0.590873\n",
      "iter 990: train error 0.523599, test error 0.588046\n",
      "iter 1000: train error 0.603078, test error 0.577907\n",
      "iter 1010: train error 0.46972, test error 0.575964\n",
      "iter 1020: train error 0.748572, test error 0.56503\n",
      "iter 1030: train error 0.483703, test error 0.551956\n",
      "iter 1040: train error 0.405542, test error 0.542351\n",
      "iter 1050: train error 0.879844, test error 0.538734\n",
      "iter 1060: train error 0.463054, test error 0.539215\n",
      "iter 1070: train error 0.705217, test error 0.529194\n",
      "iter 1080: train error 0.264148, test error 0.521951\n",
      "iter 1090: train error 0.174818, test error 0.512061\n",
      "iter 1100: train error 0.606024, test error 0.505744\n",
      "iter 1110: train error 0.283717, test error 0.499933\n",
      "iter 1120: train error 0.504703, test error 0.49739\n",
      "iter 1130: train error 0.231266, test error 0.497426\n",
      "iter 1140: train error 0.406857, test error 0.496078\n",
      "iter 1150: train error 0.144329, test error 0.492757\n",
      "iter 1160: train error 0.460326, test error 0.49169\n",
      "iter 1170: train error 0.295433, test error 0.492782\n",
      "iter 1180: train error 0.783431, test error 0.487408\n",
      "iter 1190: train error 0.554299, test error 0.481047\n",
      "iter 1200: train error 0.244024, test error 0.475939\n",
      "iter 1210: train error 0.622895, test error 0.470472\n",
      "iter 1220: train error 0.152429, test error 0.463466\n",
      "iter 1230: train error 0.859011, test error 0.468232\n",
      "iter 1240: train error 0.266651, test error 0.456395\n",
      "iter 1250: train error 0.527087, test error 0.449698\n",
      "iter 1260: train error 0.386451, test error 0.445992\n",
      "iter 1270: train error 0.198065, test error 0.443916\n",
      "iter 1280: train error 0.618335, test error 0.438156\n",
      "iter 1290: train error 0.563171, test error 0.432956\n",
      "iter 1300: train error 0.261959, test error 0.42226\n",
      "iter 1310: train error 0.482336, test error 0.42452\n",
      "iter 1320: train error 0.416921, test error 0.420304\n",
      "iter 1330: train error 0.40451, test error 0.419812\n",
      "iter 1340: train error 0.243025, test error 0.413591\n",
      "iter 1350: train error 0.966985, test error 0.41135\n",
      "iter 1360: train error 0.294961, test error 0.408637\n",
      "iter 1370: train error 0.207828, test error 0.405082\n",
      "iter 1380: train error 0.391569, test error 0.397493\n",
      "iter 1390: train error 0.223367, test error 0.396694\n",
      "iter 1400: train error 0.412467, test error 0.389406\n",
      "iter 1410: train error 0.212375, test error 0.388304\n",
      "iter 1420: train error 0.739857, test error 0.387954\n",
      "iter 1430: train error 0.0907743, test error 0.386603\n",
      "iter 1440: train error 0.248987, test error 0.38432\n",
      "iter 1450: train error 0.910191, test error 0.378685\n",
      "iter 1460: train error 0.23642, test error 0.371584\n",
      "iter 1470: train error 0.171634, test error 0.368706\n",
      "iter 1480: train error 0.339599, test error 0.370901\n",
      "iter 1490: train error 0.586986, test error 0.363459\n"
     ]
    }
   ],
   "source": [
    "#Train the model with x-train\n",
    "with tf.Session() as sess:\n",
    "    sess.run(tf.global_variables_initializer())\n",
    "    batch_train_err = []\n",
    "    test_err = []\n",
    "    for i in range(epochs):\n",
    "        \n",
    "        #Batch training\n",
    "        #pick random batch_size data points from x_train\n",
    "        rand_index = np.random.choice(x_train.shape[0], size=batch_size)\n",
    "        x_batch = x_train[rand_index]\n",
    "        y_batch = y_train[rand_index]\n",
    "        \n",
    "        train_op.run(feed_dict={X:x_batch, Y:y_batch})\n",
    "        err = loss.eval(feed_dict={X: x_batch, Y: y_batch})\n",
    "          \n",
    "        if(i%10==0):\n",
    "            batch_train_err.append(err)\n",
    "            \n",
    "            #For Q1a)\n",
    "            test_err.append(loss.eval(feed_dict={X: x_test, Y: y_test}))   \n",
    "            print('iter %d: train error %g, test error %g'%(i, batch_train_err[-1], test_err[-1]))\n",
    "             \n",
    "    \n",
    "    \n",
    "    #Q1c) Select 50 x_test samples\n",
    "    sample_index = np.random.choice(x_test.shape[0], size=50)\n",
    "    x_test_sample = x_test[sample_index]\n",
    "    y_test_sample = y_test[sample_index]\n",
    "    #plot y_hat and y_test\n",
    "\n",
    "    pred = sess.run(Y_hat, feed_dict={X:x_test_sample})\n"
   ]
  },
  {
   "cell_type": "code",
   "execution_count": 28,
   "metadata": {},
   "outputs": [
    {
     "data": {
      "image/png": "[encoded data removed]",
      "text/plain": [
       "<Figure size 432x288 with 1 Axes>"
      ]
     },
     "metadata": {
      "needs_background": "light"
     },
     "output_type": "display_data"
    }
   ],
   "source": [
    "#Q1a plot train err against test err\n",
    "plt.plot(range(0, epochs, 10), batch_train_err, color='blue', label='Train Error')\n",
    "plt.plot(range(0, epochs, 10), test_err, color ='red', label='Test Error')\n",
    "plt.legend(loc='upper left')\n",
    "plt.savefig('figures/q1a.png')"
   ]
  },
  {
   "cell_type": "code",
   "execution_count": 30,
   "metadata": {},
   "outputs": [
    {
     "data": {
      "image/png": "[encoded data removed]",
      "text/plain": [
       "<Figure size 1440x360 with 1 Axes>"
      ]
     },
     "metadata": {
      "needs_background": "light"
     },
     "output_type": "display_data"
    }
   ],
   "source": [
    "plt.figure(figsize=(20,5))\n",
    "\n",
    "plt.plot(pred, color='blue', linestyle='', marker='o', label='Test Predictions')\n",
    "plt.plot(y_test_sample, color='red', linestyle='', marker='x', label='Test Target')\n",
    "\n",
    "zipped_list = zip(pred.tolist(), y_test_sample.tolist())\n",
    "\n",
    "\n",
    "#connects the dots between the preidction and target \n",
    "for index, line in enumerate(zipped_list):\n",
    "    x = [index, index]\n",
    "    plt.plot(x, line, linestyle='--', color='green')\n",
    "    \n",
    "plt.legend(loc='upper left')\n",
    "plt.savefig('figures/q1c.png')"
   ]
  }
 ],
 "metadata": {
  "kernelspec": {
   "display_name": "Python 3",
   "language": "python",
   "name": "python3"
  },
  "language_info": {
   "codemirror_mode": {
    "name": "ipython",
    "version": 3
   },
   "file_extension": ".py",
   "mimetype": "text/x-python",
   "name": "python",
   "nbconvert_exporter": "python",
   "pygments_lexer": "ipython3",
   "version": "3.7.4"
  }
 },
 "nbformat": 4,
 "nbformat_minor": 2
}
