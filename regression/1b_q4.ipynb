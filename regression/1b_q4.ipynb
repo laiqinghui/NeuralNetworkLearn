{
 "cells": [
  {
   "cell_type": "code",
   "execution_count": 57,
   "metadata": {
    "scrolled": true
   },
   "outputs": [],
   "source": [
    "import tensorflow as tf\n",
    "import pandas as pd\n",
    "import numpy as np\n",
    "\n",
    "from sklearn.model_selection import train_test_split\n",
    "from sklearn import preprocessing\n",
    "\n",
    "from matplotlib import pyplot as plt"
   ]
  },
  {
   "cell_type": "code",
   "execution_count": 58,
   "metadata": {
    "scrolled": true
   },
   "outputs": [],
   "source": [
    "NUM_NEURON = 50\n",
    "NUM_FEATURES = 6\n",
    "\n",
    "keep_prob = 0.8\n",
    "learning_rate = 10**-3\n",
    "beta = 10**-3\n",
    "\n",
    "epochs = 1500\n",
    "batch_size = 8\n",
    "\n",
    "df = pd.read_csv(\"data/admission_predict.csv\")\n",
    "df = df.drop(['Serial No.', 'SOP'], axis=1)\n",
    "\n",
    "y = df['Chance of Admit'].to_numpy()\n",
    "y = np.reshape(y, (y.shape[0], 1))\n",
    "\n",
    "#Optimized one \n",
    "features = df.drop([\"Chance of Admit\"], axis=1).to_numpy()"
   ]
  },
  {
   "cell_type": "code",
   "execution_count": 59,
   "metadata": {
    "scrolled": true
   },
   "outputs": [],
   "source": [
    "def neural_net(x):\n",
    "    #hidden layer 1\n",
    "    layer_1 = tf.add(tf.matmul(x, weights['h1']), biases['b1'])\n",
    "    layer_1 = tf.nn.relu(layer_1) #activation function\n",
    "    layer_1 = tf.nn.dropout(layer_1, rate=(1-keep_prob))\n",
    "    \n",
    "    \n",
    "    #hidden layer 2\n",
    "    layer_2 = tf.add(tf.matmul(layer_1, weights['h2']), biases['b2'])\n",
    "    layer_2 = tf.nn.relu(layer_2) #activation function\n",
    "    layer_2 = tf.nn.dropout(layer_2, rate=(1-keep_prob))\n",
    "\n",
    "    \n",
    "    #hidden layer 3\n",
    "    layer_3 = tf.add(tf.matmul(layer_2, weights['h3']), biases['b3'])\n",
    "    layer_3 = tf.nn.relu(layer_3) #activation function\n",
    "    layer_3 = tf.nn.dropout(layer_3, rate=(1-keep_prob))\n",
    "    \n",
    "    #linear activation\n",
    "    \n",
    "#     out_layer = tf.matmul(layer_1, weights['out']) + biases['out']\n",
    "#     out_layer = tf.matmul(layer_2, weights['out']) + biases['out']\n",
    "    out_layer = tf.matmul(layer_3, weights['out']) + biases['out']\n",
    "    return (out_layer)\n",
    "\n",
    "\n",
    "weights = {\n",
    "    'h1': tf.Variable(tf.truncated_normal([NUM_FEATURES, NUM_NEURON], seed=1337, stddev=1.0 / np.sqrt(NUM_FEATURES), dtype=tf.float32)),\n",
    "    'h2': tf.Variable(tf.truncated_normal([NUM_NEURON, NUM_NEURON], seed=1337, stddev=1.0 / np.sqrt(NUM_FEATURES), dtype=tf.float32)),\n",
    "    'h3': tf.Variable(tf.truncated_normal([NUM_NEURON, NUM_NEURON], seed=1337, stddev=1.0 / np.sqrt(NUM_FEATURES), dtype=tf.float32)),\n",
    "    'out': tf.Variable(tf.truncated_normal([NUM_NEURON, 1], seed=1337, stddev=1.0 / np.sqrt(NUM_FEATURES), dtype=tf.float32))# 1 ouput label\n",
    "}\n",
    "\n",
    "biases = {\n",
    "    'b1': tf.Variable(tf.random_normal([NUM_NEURON], seed=1337)),\n",
    "    'b2': tf.Variable(tf.random_normal([NUM_NEURON], seed=1337)),\n",
    "    'b3': tf.Variable(tf.random_normal([NUM_NEURON], seed=1337)),\n",
    "    'out': tf.Variable(tf.random_normal([1], seed=1337))\n",
    "}"
   ]
  },
  {
   "cell_type": "code",
   "execution_count": 60,
   "metadata": {
    "scrolled": true
   },
   "outputs": [
    {
     "name": "stdout",
     "output_type": "stream",
     "text": [
      "epoch 0: train err 223.31, test error 171.353 \n",
      "epoch 10: train err 15.1969, test error 14.928 \n",
      "epoch 20: train err 7.98674, test error 9.6999 \n",
      "epoch 30: train err 6.54657, test error 6.93642 \n",
      "epoch 40: train err 6.87809, test error 4.94288 \n",
      "epoch 50: train err 5.77238, test error 5.26892 \n",
      "epoch 60: train err 2.57413, test error 4.01099 \n",
      "epoch 70: train err 4.46805, test error 2.87545 \n",
      "epoch 80: train err 1.60297, test error 2.33739 \n",
      "epoch 90: train err 1.58161, test error 2.67654 \n",
      "epoch 100: train err 1.58785, test error 2.39099 \n",
      "epoch 110: train err 1.52864, test error 2.282 \n",
      "epoch 120: train err 1.69647, test error 1.98003 \n",
      "epoch 130: train err 1.26126, test error 1.91397 \n",
      "epoch 140: train err 1.36695, test error 1.25686 \n",
      "epoch 150: train err 0.722039, test error 1.53806 \n",
      "epoch 160: train err 1.41248, test error 1.44264 \n",
      "epoch 170: train err 0.74166, test error 0.980173 \n",
      "epoch 180: train err 0.632977, test error 1.4637 \n",
      "epoch 190: train err 2.51084, test error 1.24634 \n",
      "epoch 200: train err 2.61586, test error 1.35305 \n",
      "epoch 210: train err 0.920848, test error 1.37793 \n",
      "epoch 220: train err 0.795416, test error 1.24902 \n",
      "epoch 230: train err 0.230669, test error 1.21926 \n",
      "epoch 240: train err 0.782025, test error 1.22108 \n",
      "epoch 250: train err 1.10554, test error 0.957633 \n",
      "epoch 260: train err 1.40575, test error 1.10709 \n",
      "epoch 270: train err 0.590566, test error 0.970132 \n",
      "epoch 280: train err 1.17407, test error 1.16554 \n",
      "epoch 290: train err 0.395812, test error 0.941037 \n",
      "epoch 300: train err 0.825536, test error 0.937487 \n",
      "epoch 310: train err 1.3725, test error 0.884532 \n",
      "epoch 320: train err 0.737897, test error 0.789686 \n",
      "epoch 330: train err 0.753474, test error 0.917591 \n",
      "epoch 340: train err 0.418341, test error 0.973552 \n",
      "epoch 350: train err 0.333734, test error 0.822574 \n",
      "epoch 360: train err 0.95081, test error 0.738483 \n",
      "epoch 370: train err 0.35918, test error 0.757833 \n",
      "epoch 380: train err 1.21372, test error 0.938521 \n",
      "epoch 390: train err 0.372647, test error 1.03442 \n",
      "epoch 400: train err 0.445088, test error 0.664472 \n",
      "epoch 410: train err 0.752154, test error 0.897492 \n",
      "epoch 420: train err 0.340675, test error 0.622623 \n",
      "epoch 430: train err 1.39822, test error 0.63855 \n",
      "epoch 440: train err 0.413156, test error 0.540363 \n",
      "epoch 450: train err 1.52181, test error 0.589836 \n",
      "epoch 460: train err 0.907619, test error 0.64493 \n",
      "epoch 470: train err 1.11039, test error 0.73053 \n",
      "epoch 480: train err 0.581717, test error 0.970896 \n",
      "epoch 490: train err 0.140203, test error 0.680199 \n",
      "epoch 500: train err 0.413423, test error 0.450824 \n",
      "epoch 510: train err 0.765202, test error 0.585695 \n",
      "epoch 520: train err 0.644115, test error 0.610936 \n",
      "epoch 530: train err 0.839321, test error 0.632144 \n",
      "epoch 540: train err 0.879249, test error 0.520056 \n",
      "epoch 550: train err 0.243776, test error 0.758301 \n",
      "epoch 560: train err 0.3621, test error 0.63712 \n",
      "epoch 570: train err 0.359977, test error 0.427601 \n",
      "epoch 580: train err 0.131217, test error 0.606091 \n",
      "epoch 590: train err 0.642625, test error 0.55495 \n",
      "epoch 600: train err 0.256734, test error 0.643654 \n",
      "epoch 610: train err 0.412951, test error 0.552672 \n",
      "epoch 620: train err 0.484189, test error 0.47768 \n",
      "epoch 630: train err 0.225274, test error 0.53449 \n",
      "epoch 640: train err 0.337179, test error 0.496594 \n",
      "epoch 650: train err 0.863032, test error 0.480136 \n",
      "epoch 660: train err 0.887566, test error 0.493294 \n",
      "epoch 670: train err 0.473304, test error 0.599483 \n",
      "epoch 680: train err 0.413635, test error 0.479711 \n",
      "epoch 690: train err 0.613264, test error 0.502909 \n",
      "epoch 700: train err 0.221564, test error 0.539922 \n",
      "epoch 710: train err 0.536478, test error 0.448369 \n",
      "epoch 720: train err 0.36597, test error 0.370286 \n",
      "epoch 730: train err 0.379007, test error 0.435111 \n",
      "epoch 740: train err 0.198087, test error 0.58077 \n",
      "epoch 750: train err 0.528293, test error 0.509988 \n",
      "epoch 760: train err 0.911217, test error 0.506465 \n",
      "epoch 770: train err 0.788376, test error 0.518185 \n",
      "epoch 780: train err 1.09486, test error 0.476592 \n",
      "epoch 790: train err 0.379089, test error 0.461587 \n",
      "epoch 800: train err 0.111844, test error 0.587985 \n",
      "epoch 810: train err 0.703907, test error 0.45361 \n",
      "epoch 820: train err 0.297782, test error 0.434631 \n",
      "epoch 830: train err 0.141666, test error 0.518279 \n",
      "epoch 840: train err 0.380557, test error 0.583721 \n",
      "epoch 850: train err 0.2919, test error 0.474463 \n",
      "epoch 860: train err 0.693573, test error 0.479469 \n",
      "epoch 870: train err 0.3822, test error 0.443066 \n",
      "epoch 880: train err 0.590384, test error 0.401784 \n",
      "epoch 890: train err 0.169623, test error 0.410223 \n",
      "epoch 900: train err 1.03828, test error 0.511941 \n",
      "epoch 910: train err 0.59761, test error 0.52152 \n",
      "epoch 920: train err 0.140121, test error 0.415294 \n",
      "epoch 930: train err 0.230356, test error 0.315887 \n",
      "epoch 940: train err 0.493115, test error 0.410969 \n",
      "epoch 950: train err 0.22799, test error 0.367113 \n",
      "epoch 960: train err 0.404071, test error 0.449375 \n",
      "epoch 970: train err 0.13255, test error 0.396222 \n",
      "epoch 980: train err 0.586055, test error 0.386101 \n",
      "epoch 990: train err 0.325943, test error 0.482283 \n",
      "epoch 1000: train err 0.638128, test error 0.279691 \n",
      "epoch 1010: train err 0.299632, test error 0.475889 \n",
      "epoch 1020: train err 0.294709, test error 0.484472 \n",
      "epoch 1030: train err 0.335834, test error 0.476422 \n",
      "epoch 1040: train err 0.317511, test error 0.341752 \n",
      "epoch 1050: train err 0.303295, test error 0.435454 \n",
      "epoch 1060: train err 0.243675, test error 0.418096 \n",
      "epoch 1070: train err 0.196133, test error 0.376907 \n",
      "epoch 1080: train err 0.213112, test error 0.418314 \n",
      "epoch 1090: train err 0.217986, test error 0.387822 \n",
      "epoch 1100: train err 0.647608, test error 0.404859 \n",
      "epoch 1110: train err 0.342131, test error 0.329332 \n",
      "epoch 1120: train err 0.318603, test error 0.364758 \n",
      "epoch 1130: train err 0.1892, test error 0.342517 \n",
      "epoch 1140: train err 0.182283, test error 0.331668 \n",
      "epoch 1150: train err 0.212159, test error 0.337198 \n",
      "epoch 1160: train err 0.132093, test error 0.353506 \n",
      "epoch 1170: train err 0.334941, test error 0.315854 \n",
      "epoch 1180: train err 0.190877, test error 0.313815 \n",
      "epoch 1190: train err 0.554027, test error 0.313082 \n",
      "epoch 1200: train err 0.363693, test error 0.438087 \n",
      "epoch 1210: train err 0.400694, test error 0.409654 \n",
      "epoch 1220: train err 0.113485, test error 0.396195 \n",
      "epoch 1230: train err 0.0536467, test error 0.369385 \n",
      "epoch 1240: train err 0.460678, test error 0.366031 \n",
      "epoch 1250: train err 0.219184, test error 0.287269 \n",
      "epoch 1260: train err 0.727766, test error 0.495169 \n",
      "epoch 1270: train err 0.294026, test error 0.297116 \n",
      "epoch 1280: train err 0.316202, test error 0.445394 \n",
      "epoch 1290: train err 0.355037, test error 0.324727 \n",
      "epoch 1300: train err 0.330712, test error 0.339674 \n",
      "epoch 1310: train err 0.252389, test error 0.34897 \n",
      "epoch 1320: train err 0.187737, test error 0.309463 \n",
      "epoch 1330: train err 0.47474, test error 0.393878 \n",
      "epoch 1340: train err 0.175237, test error 0.338097 \n",
      "epoch 1350: train err 0.0460311, test error 0.276156 \n",
      "epoch 1360: train err 0.352529, test error 0.358154 \n",
      "epoch 1370: train err 0.219252, test error 0.365676 \n",
      "epoch 1380: train err 0.440532, test error 0.251398 \n",
      "epoch 1390: train err 0.093784, test error 0.384526 \n",
      "epoch 1400: train err 0.154367, test error 0.267785 \n",
      "epoch 1410: train err 0.284138, test error 0.346953 \n",
      "epoch 1420: train err 0.223026, test error 0.376003 \n",
      "epoch 1430: train err 0.19115, test error 0.328938 \n",
      "epoch 1440: train err 0.202517, test error 0.26547 \n",
      "epoch 1450: train err 0.141437, test error 0.339841 \n",
      "epoch 1460: train err 0.31238, test error 0.344457 \n",
      "epoch 1470: train err 0.159718, test error 0.365658 \n",
      "epoch 1480: train err 0.468869, test error 0.424838 \n",
      "epoch 1490: train err 0.319353, test error 0.259613 \n"
     ]
    }
   ],
   "source": [
    "np.random.seed(1337)\n",
    "tf.set_random_seed(1337)\n",
    "\n",
    "#Create model\n",
    "X = tf.placeholder(tf.float32, [None, NUM_FEATURES])\n",
    "Y = tf.placeholder(tf.float32, [None, 1])\n",
    "\n",
    "\n",
    "x_train, x_test, y_train, y_test = train_test_split(features, y, test_size=0.3)\n",
    "scaler = preprocessing.StandardScaler()\n",
    "x_train = scaler.fit_transform(x_train)\n",
    "x_test = scaler.transform(x_test)\n",
    "\n",
    "#predicted value\n",
    "Y_hat = neural_net(X)\n",
    "optimizer = tf.train.GradientDescentOptimizer(learning_rate)\n",
    "loss = tf.reduce_mean(tf.square(Y - Y_hat)) \n",
    "reg = tf.nn.l2_loss(weights['h1']) + tf.nn.l2_loss(weights['h2']) +  tf.nn.l2_loss(weights['out'])\n",
    "train_op = optimizer.minimize(loss + reg * beta)\n",
    "\n",
    "\n",
    "with tf.Session() as sess:\n",
    "    sess.run(tf.global_variables_initializer())\n",
    "    batch_train_err = []\n",
    "    test_err = []\n",
    "    for i in range(epochs):\n",
    "\n",
    "        #Batch training\n",
    "        #pick random batch_size data points from x_train\n",
    "        rand_index = np.random.choice(x_train.shape[0], size=batch_size)\n",
    "        x_batch = x_train[rand_index]\n",
    "        y_batch = y_train[rand_index]\n",
    "\n",
    "        train_op.run(feed_dict={X:x_batch, Y:y_batch})\n",
    "      \n",
    "\n",
    "        if(i%10==0):\n",
    "            batch_train_err.append(loss.eval(feed_dict={X: x_batch, Y: y_batch}))\n",
    "            test_err.append(loss.eval(feed_dict={X: x_test, Y: y_test}))   \n",
    "            print (\"epoch %d: train err %g, test error %g \" % (i, batch_train_err[-1], test_err[-1]))\n",
    "    #Q1c) Select 50 x_test samples\n",
    "    sample_index = np.random.choice(x_test.shape[0], size=50)\n",
    "    x_test_sample = x_test[sample_index]\n",
    "    y_test_sample = y_test[sample_index]\n",
    "    #plot y_hat and y_test\n",
    "\n",
    "    pred = sess.run(Y_hat, feed_dict={X:x_test_sample})\n"
   ]
  },
  {
   "cell_type": "code",
   "execution_count": 61,
   "metadata": {
    "scrolled": true
   },
   "outputs": [
    {
     "data": {
      "text/plain": [
       "<matplotlib.legend.Legend at 0x1dc04b0a308>"
      ]
     },
     "execution_count": 61,
     "metadata": {},
     "output_type": "execute_result"
    },
    {
     "data": {
      "image/png": "[encoded data removed]",
      "text/plain": [
       "<Figure size 432x288 with 1 Axes>"
      ]
     },
     "metadata": {
      "needs_background": "light"
     },
     "output_type": "display_data"
    }
   ],
   "source": [
    "#Q1a plot train err against test err\n",
    "plt.plot(range(0, epochs, 10), batch_train_err, color='blue', label='Train Error')\n",
    "plt.plot(range(0, epochs, 10), test_err, color ='red', label='Test Error')\n",
    "plt.legend(loc='upper left')"
   ]
  },
  {
   "cell_type": "code",
   "execution_count": 62,
   "metadata": {
    "scrolled": true
   },
   "outputs": [
    {
     "data": {
      "text/plain": [
       "<matplotlib.legend.Legend at 0x1dc03159648>"
      ]
     },
     "execution_count": 62,
     "metadata": {},
     "output_type": "execute_result"
    },
    {
     "data": {
      "image/png": "[encoded data removed]",
      "text/plain": [
       "<Figure size 1440x360 with 1 Axes>"
      ]
     },
     "metadata": {
      "needs_background": "light"
     },
     "output_type": "display_data"
    }
   ],
   "source": [
    "plt.figure(figsize=(20,5))\n",
    "\n",
    "plt.plot(pred, color='blue', linestyle='', marker='o', label='Test Predictions')\n",
    "plt.plot(y_test_sample, color='red', linestyle='', marker='x', label='Test Target')\n",
    "\n",
    "zipped_list = zip(pred.tolist(), y_test_sample.tolist())\n",
    "\n",
    "\n",
    "#connects the dots between the preidction and target \n",
    "for index, line in enumerate(zipped_list):\n",
    "    x = [index, index]\n",
    "    plt.plot(x, line, linestyle='--', color='green')\n",
    "    \n",
    "plt.legend(loc='upper left')"
   ]
  },
  {
   "cell_type": "code",
   "execution_count": null,
   "metadata": {},
   "outputs": [],
   "source": []
  }
 ],
 "metadata": {
  "kernelspec": {
   "display_name": "Python 3",
   "language": "python",
   "name": "python3"
  },
  "language_info": {
   "codemirror_mode": {
    "name": "ipython",
    "version": 3
   },
   "file_extension": ".py",
   "mimetype": "text/x-python",
   "name": "python",
   "nbconvert_exporter": "python",
   "pygments_lexer": "ipython3",
   "version": "3.7.4"
  }
 },
 "nbformat": 4,
 "nbformat_minor": 2
}
