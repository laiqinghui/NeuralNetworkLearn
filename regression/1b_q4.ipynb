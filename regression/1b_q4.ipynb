{
 "cells": [
  {
   "cell_type": "code",
   "execution_count": 84,
   "metadata": {
    "scrolled": true
   },
   "outputs": [],
   "source": [
    "import tensorflow as tf\n",
    "import pandas as pd\n",
    "import numpy as np\n",
    "\n",
    "from sklearn.model_selection import train_test_split\n",
    "from sklearn import preprocessing\n",
    "\n",
    "from matplotlib import pyplot as plt"
   ]
  },
  {
   "cell_type": "code",
   "execution_count": 85,
   "metadata": {
    "scrolled": true
   },
   "outputs": [],
   "source": [
    "# NUM_NEURON = 50\n",
    "NUM_FEATURES = 6\n",
    "\n",
    "keep_prob = 0.8\n",
    "learning_rate = 10**-3\n",
    "beta = 10**-3\n",
    "\n",
    "epochs = 1500\n",
    "batch_size = 8\n",
    "\n",
    "df = pd.read_csv(\"data/admission_predict.csv\")\n",
    "df = df.drop(['Serial No.'], axis=1)\n",
    "\n",
    "y = df['Chance of Admit'].to_numpy()\n",
    "y = np.reshape(y, (y.shape[0], 1))\n",
    "\n",
    "#Optimized one \n",
    "features = df.drop([\"Chance of Admit\", 'SOP'], axis=1).to_numpy()"
   ]
  },
  {
   "cell_type": "code",
   "execution_count": 86,
   "metadata": {
    "scrolled": true
   },
   "outputs": [],
   "source": [
    "def neural_net(x):\n",
    "    #hidden layer 1\n",
    "    layer_1 = tf.add(tf.matmul(x, weights['h1']), biases['b1'])\n",
    "    layer_1 = tf.nn.relu(layer_1) #activation function\n",
    "    layer_1 = tf.nn.dropout(layer_1, rate=(1-keep_prob))\n",
    "    \n",
    "    #hidden layer 2\n",
    "    layer_2 = tf.add(tf.matmul(layer_1, weights['h2']), biases['b2'])\n",
    "    layer_2 = tf.nn.relu(layer_2) #activation function\n",
    "    layer_2 = tf.nn.dropout(layer_2, rate=(1-keep_prob))\n",
    "    \n",
    "    #hidden layer 3\n",
    "    layer_3 = tf.add(tf.matmul(layer_2, weights['h3']), biases['b3'])\n",
    "    layer_3 = tf.nn.relu(layer_3) #activation function\n",
    "    layer_3 = tf.nn.dropout(layer_3, rate=(1-keep_prob))\n",
    "    \n",
    "    #linear activation\n",
    "    \n",
    "#     out_layer = tf.matmul(layer_1, weights['out']) + biases['out']\n",
    "#     out_layer = tf.matmul(layer_2, weights['out']) + biases['out']\n",
    "    out_layer = tf.matmul(layer_3, weights['out']) + biases['out']\n",
    "    return (out_layer)\n",
    "\n",
    "\n",
    "weights = {\n",
    "    'h1': tf.Variable(tf.truncated_normal([NUM_FEATURES, NUM_NEURON], seed=1337, stddev=1.0 / np.sqrt(NUM_FEATURES), dtype=tf.float32)),\n",
    "    'h2': tf.Variable(tf.truncated_normal([NUM_NEURON, NUM_NEURON], seed=1337, stddev=1.0 / np.sqrt(NUM_FEATURES), dtype=tf.float32)),\n",
    "    'h3': tf.Variable(tf.truncated_normal([NUM_NEURON, NUM_NEURON], seed=1337, stddev=1.0 / np.sqrt(NUM_FEATURES), dtype=tf.float32)),\n",
    "    'out': tf.Variable(tf.truncated_normal([NUM_NEURON, 1], seed=1337, stddev=1.0 / np.sqrt(NUM_FEATURES), dtype=tf.float32))# 1 ouput label\n",
    "}\n",
    "\n",
    "biases = {\n",
    "    'b1': tf.Variable(tf.zeros([1]), dtype=tf.float32),\n",
    "    'b2': tf.Variable(tf.zeros([1]), dtype=tf.float32),\n",
    "    'b3': tf.Variable(tf.zeros([1]), dtype=tf.float32),\n",
    "    'out': tf.Variable(tf.zeros([1]), dtype=tf.float32)\n",
    "}"
   ]
  },
  {
   "cell_type": "code",
   "execution_count": 87,
   "metadata": {
    "scrolled": true
   },
   "outputs": [
    {
     "name": "stdout",
     "output_type": "stream",
     "text": [
      "epoch 0: train err 31.5707, test error 39.7861 \n",
      "epoch 10: train err 1.31821, test error 2.78245 \n",
      "epoch 20: train err 0.774742, test error 2.18746 \n",
      "epoch 30: train err 2.88233, test error 1.71839 \n",
      "epoch 40: train err 0.950561, test error 0.972321 \n",
      "epoch 50: train err 0.33975, test error 1.10141 \n",
      "epoch 60: train err 0.386064, test error 1.19757 \n",
      "epoch 70: train err 0.532397, test error 0.782863 \n",
      "epoch 80: train err 1.50318, test error 1.0218 \n",
      "epoch 90: train err 1.76787, test error 1.0504 \n",
      "epoch 100: train err 0.324651, test error 0.690279 \n",
      "epoch 110: train err 0.586549, test error 1.0497 \n",
      "epoch 120: train err 0.272866, test error 0.527413 \n",
      "epoch 130: train err 1.86582, test error 0.795552 \n",
      "epoch 140: train err 0.460276, test error 0.415004 \n",
      "epoch 150: train err 0.14744, test error 0.503251 \n",
      "epoch 160: train err 0.20157, test error 0.577907 \n",
      "epoch 170: train err 0.58969, test error 0.449825 \n",
      "epoch 180: train err 0.405323, test error 0.39878 \n",
      "epoch 190: train err 0.661051, test error 0.360269 \n",
      "epoch 200: train err 0.293485, test error 0.363546 \n",
      "epoch 210: train err 0.225865, test error 0.381952 \n",
      "epoch 220: train err 0.278736, test error 0.331003 \n",
      "epoch 230: train err 0.315688, test error 0.311612 \n",
      "epoch 240: train err 0.222554, test error 0.632068 \n",
      "epoch 250: train err 0.240513, test error 0.288613 \n",
      "epoch 260: train err 0.143007, test error 0.418878 \n",
      "epoch 270: train err 0.304035, test error 0.516771 \n",
      "epoch 280: train err 0.36021, test error 0.596503 \n",
      "epoch 290: train err 0.153538, test error 0.279832 \n",
      "epoch 300: train err 0.152181, test error 0.262697 \n",
      "epoch 310: train err 0.11631, test error 0.450111 \n",
      "epoch 320: train err 0.160544, test error 0.444455 \n",
      "epoch 330: train err 0.17191, test error 0.423086 \n",
      "epoch 340: train err 0.155461, test error 0.325461 \n",
      "epoch 350: train err 0.0945558, test error 0.278256 \n",
      "epoch 360: train err 0.20283, test error 0.249253 \n",
      "epoch 370: train err 0.230709, test error 0.337506 \n",
      "epoch 380: train err 0.112707, test error 0.204672 \n",
      "epoch 390: train err 0.172968, test error 0.35318 \n",
      "epoch 400: train err 0.0887917, test error 0.276427 \n",
      "epoch 410: train err 0.165714, test error 0.282569 \n",
      "epoch 420: train err 0.100869, test error 0.289265 \n",
      "epoch 430: train err 0.109101, test error 0.232493 \n",
      "epoch 440: train err 0.144965, test error 0.178908 \n",
      "epoch 450: train err 0.305767, test error 0.27831 \n",
      "epoch 460: train err 0.136137, test error 0.203425 \n",
      "epoch 470: train err 0.141873, test error 0.380104 \n",
      "epoch 480: train err 0.604261, test error 0.493651 \n",
      "epoch 490: train err 0.105945, test error 0.157637 \n",
      "epoch 500: train err 0.0821654, test error 0.167655 \n",
      "epoch 510: train err 0.0702811, test error 0.269466 \n",
      "epoch 520: train err 0.0767107, test error 0.129268 \n",
      "epoch 530: train err 0.0892302, test error 0.203338 \n",
      "epoch 540: train err 0.0666554, test error 0.184412 \n",
      "epoch 550: train err 0.239757, test error 0.168602 \n",
      "epoch 560: train err 0.051106, test error 0.130664 \n",
      "epoch 570: train err 0.0799691, test error 0.112261 \n",
      "epoch 580: train err 0.0885545, test error 0.128303 \n",
      "epoch 590: train err 0.160619, test error 0.107961 \n",
      "epoch 600: train err 0.0780895, test error 0.280257 \n",
      "epoch 610: train err 0.136295, test error 0.121772 \n",
      "epoch 620: train err 0.0709893, test error 0.130123 \n",
      "epoch 630: train err 0.0972484, test error 0.104174 \n",
      "epoch 640: train err 0.051922, test error 0.163663 \n",
      "epoch 650: train err 0.0685282, test error 0.118055 \n",
      "epoch 660: train err 0.0493, test error 0.129645 \n",
      "epoch 670: train err 0.0579303, test error 0.0948614 \n",
      "epoch 680: train err 0.0439375, test error 0.131226 \n",
      "epoch 690: train err 0.0665892, test error 0.102285 \n",
      "epoch 700: train err 0.0598757, test error 0.11276 \n",
      "epoch 710: train err 0.0587063, test error 0.13108 \n",
      "epoch 720: train err 0.0654789, test error 0.0994891 \n",
      "epoch 730: train err 0.107591, test error 0.0870934 \n",
      "epoch 740: train err 0.0688809, test error 0.0810667 \n",
      "epoch 750: train err 0.0366226, test error 0.155973 \n",
      "epoch 760: train err 0.0520747, test error 0.116207 \n",
      "epoch 770: train err 0.0472428, test error 0.149021 \n",
      "epoch 780: train err 0.0620205, test error 0.0787624 \n",
      "epoch 790: train err 0.0498815, test error 0.157728 \n",
      "epoch 800: train err 0.275368, test error 0.101759 \n",
      "epoch 810: train err 0.0201722, test error 0.31107 \n",
      "epoch 820: train err 0.035299, test error 0.119966 \n",
      "epoch 830: train err 0.074016, test error 0.133963 \n",
      "epoch 840: train err 0.0701071, test error 0.291464 \n",
      "epoch 850: train err 0.0259495, test error 0.119128 \n",
      "epoch 860: train err 0.0408912, test error 0.154679 \n",
      "epoch 870: train err 0.054997, test error 0.0699911 \n",
      "epoch 880: train err 0.0488611, test error 0.1863 \n",
      "epoch 890: train err 0.0416118, test error 0.0798189 \n",
      "epoch 900: train err 0.0440307, test error 0.0571445 \n",
      "epoch 910: train err 0.0328231, test error 0.0639296 \n",
      "epoch 920: train err 0.0289257, test error 0.0509638 \n",
      "epoch 930: train err 0.0397881, test error 0.12224 \n",
      "epoch 940: train err 0.0507962, test error 0.100847 \n",
      "epoch 950: train err 0.0552015, test error 0.0600134 \n",
      "epoch 960: train err 0.0283935, test error 0.0476377 \n",
      "epoch 970: train err 0.04264, test error 0.069285 \n",
      "epoch 980: train err 0.0240984, test error 0.118224 \n",
      "epoch 990: train err 0.0446156, test error 0.103241 \n",
      "epoch 1000: train err 0.0360591, test error 0.0403712 \n",
      "epoch 1010: train err 0.0404737, test error 0.175412 \n",
      "epoch 1020: train err 0.0173224, test error 0.0733502 \n",
      "epoch 1030: train err 0.015498, test error 0.0734963 \n",
      "epoch 1040: train err 0.0156822, test error 0.0553384 \n",
      "epoch 1050: train err 0.0582412, test error 0.0394451 \n",
      "epoch 1060: train err 0.0347961, test error 0.0401467 \n",
      "epoch 1070: train err 0.0393056, test error 0.0519142 \n",
      "epoch 1080: train err 0.0675517, test error 0.316058 \n",
      "epoch 1090: train err 0.0449721, test error 0.126988 \n",
      "epoch 1100: train err 0.0208701, test error 0.068819 \n",
      "epoch 1110: train err 0.0370664, test error 0.0775558 \n",
      "epoch 1120: train err 0.0296158, test error 0.0489681 \n",
      "epoch 1130: train err 0.021754, test error 0.14482 \n",
      "epoch 1140: train err 0.0257961, test error 0.0560776 \n",
      "epoch 1150: train err 0.0225768, test error 0.0508615 \n",
      "epoch 1160: train err 0.020685, test error 0.0324213 \n",
      "epoch 1170: train err 0.0241295, test error 0.0802341 \n",
      "epoch 1180: train err 0.013083, test error 0.0507232 \n",
      "epoch 1190: train err 0.0398686, test error 0.0625141 \n",
      "epoch 1200: train err 0.0295287, test error 0.0587506 \n",
      "epoch 1210: train err 0.027004, test error 0.134107 \n",
      "epoch 1220: train err 0.0397223, test error 0.0694761 \n",
      "epoch 1230: train err 0.0314692, test error 0.0715881 \n",
      "epoch 1240: train err 0.0209451, test error 0.0472508 \n",
      "epoch 1250: train err 0.0149222, test error 0.0282212 \n",
      "epoch 1260: train err 0.014715, test error 0.0398016 \n",
      "epoch 1270: train err 0.0287724, test error 0.038623 \n",
      "epoch 1280: train err 0.0177084, test error 0.0943929 \n",
      "epoch 1290: train err 0.108042, test error 0.0362644 \n",
      "epoch 1300: train err 0.0120372, test error 0.0387567 \n",
      "epoch 1310: train err 0.0270718, test error 0.0466833 \n",
      "epoch 1320: train err 0.0386219, test error 0.02934 \n",
      "epoch 1330: train err 0.0307212, test error 0.260328 \n",
      "epoch 1340: train err 0.0253048, test error 0.0698111 \n",
      "epoch 1350: train err 0.053086, test error 0.0493664 \n",
      "epoch 1360: train err 0.0239576, test error 0.0639959 \n",
      "epoch 1370: train err 0.0407426, test error 0.0335912 \n",
      "epoch 1380: train err 0.034891, test error 0.065798 \n",
      "epoch 1390: train err 0.0150814, test error 0.0460978 \n",
      "epoch 1400: train err 0.00992722, test error 0.0393188 \n",
      "epoch 1410: train err 0.0597989, test error 0.0364927 \n",
      "epoch 1420: train err 0.0157582, test error 0.044038 \n",
      "epoch 1430: train err 0.0397074, test error 0.0325232 \n",
      "epoch 1440: train err 0.0215672, test error 0.0779162 \n",
      "epoch 1450: train err 0.0179571, test error 0.10589 \n",
      "epoch 1460: train err 0.0754281, test error 0.065768 \n",
      "epoch 1470: train err 0.0186222, test error 0.040043 \n",
      "epoch 1480: train err 0.00481733, test error 0.110307 \n",
      "epoch 1490: train err 0.0222008, test error 0.0367294 \n"
     ]
    }
   ],
   "source": [
    "np.random.seed(1337)\n",
    "tf.set_random_seed(1337)\n",
    "\n",
    "#Create model\n",
    "X = tf.placeholder(tf.float32, [None, NUM_FEATURES])\n",
    "Y = tf.placeholder(tf.float32, [None, 1])\n",
    "\n",
    "\n",
    "x_train, x_test, y_train, y_test = train_test_split(features, y, test_size=0.3)\n",
    "scaler = preprocessing.StandardScaler()\n",
    "x_train = scaler.fit_transform(x_train)\n",
    "x_test = scaler.transform(x_test)\n",
    "\n",
    "#predicted value\n",
    "Y_hat = neural_net(X)\n",
    "optimizer = tf.train.GradientDescentOptimizer(learning_rate)\n",
    "loss = tf.reduce_mean(tf.square(Y - Y_hat)) \n",
    "reg = tf.nn.l2_loss(weights['h1']) + tf.nn.l2_loss(weights['h2'])  + tf.nn.l2_loss(weights['h3']) +  tf.nn.l2_loss(weights['out'])\n",
    "train_op = optimizer.minimize(loss + reg * beta)\n",
    "\n",
    "\n",
    "with tf.Session() as sess:\n",
    "    sess.run(tf.global_variables_initializer())\n",
    "    batch_train_err = []\n",
    "    test_err = []\n",
    "    for i in range(epochs):\n",
    "\n",
    "        #Batch training\n",
    "        #pick random batch_size data points from x_train\n",
    "        rand_index = np.random.choice(x_train.shape[0], size=batch_size)\n",
    "        x_batch = x_train[rand_index]\n",
    "        y_batch = y_train[rand_index]\n",
    "\n",
    "        train_op.run(feed_dict={X:x_batch, Y:y_batch})\n",
    "      \n",
    "\n",
    "        if(i%10==0):\n",
    "            batch_train_err.append(loss.eval(feed_dict={X: x_batch, Y: y_batch}))\n",
    "            test_err.append(loss.eval(feed_dict={X: x_test, Y: y_test}))   \n",
    "            print (\"epoch %d: train err %g, test error %g \" % (i, batch_train_err[-1], test_err[-1]))\n",
    "            \n",
    "    #Q1c) Select 50 x_test samples\n",
    "    sample_index = np.random.choice(x_test.shape[0], size=50)\n",
    "    x_test_sample = x_test[sample_index]\n",
    "    y_test_sample = y_test[sample_index]\n",
    "    #plot y_hat and y_test\n",
    "\n",
    "    pred = sess.run(Y_hat, feed_dict={X:x_test_sample})\n"
   ]
  },
  {
   "cell_type": "code",
   "execution_count": 88,
   "metadata": {
    "scrolled": false
   },
   "outputs": [
    {
     "data": {
      "text/plain": [
       "<matplotlib.legend.Legend at 0x1dc08006088>"
      ]
     },
     "execution_count": 88,
     "metadata": {},
     "output_type": "execute_result"
    },
    {
     "data": {
      "image/png": "[encoded data removed]",
      "text/plain": [
       "<Figure size 432x288 with 1 Axes>"
      ]
     },
     "metadata": {
      "needs_background": "light"
     },
     "output_type": "display_data"
    }
   ],
   "source": [
    "#Q1a plot train err against test err\n",
    "plt.plot(range(0, epochs, 10), batch_train_err, color='blue', label='Train Error')\n",
    "plt.plot(range(0, epochs, 10), test_err, color ='red', label='Test Error')\n",
    "plt.legend(loc='upper left')"
   ]
  },
  {
   "cell_type": "code",
   "execution_count": 89,
   "metadata": {
    "scrolled": true
   },
   "outputs": [
    {
     "data": {
      "text/plain": [
       "<matplotlib.legend.Legend at 0x1dc07f5bc08>"
      ]
     },
     "execution_count": 89,
     "metadata": {},
     "output_type": "execute_result"
    },
    {
     "data": {
      "image/png": "[encoded data removed]",
      "text/plain": [
       "<Figure size 1440x360 with 1 Axes>"
      ]
     },
     "metadata": {
      "needs_background": "light"
     },
     "output_type": "display_data"
    }
   ],
   "source": [
    "plt.figure(figsize=(20,5))\n",
    "\n",
    "plt.plot(pred, color='blue', linestyle='', marker='o', label='Test Predictions')\n",
    "plt.plot(y_test_sample, color='red', linestyle='', marker='x', label='Test Target')\n",
    "\n",
    "zipped_list = zip(pred.tolist(), y_test_sample.tolist())\n",
    "\n",
    "\n",
    "#connects the dots between the preidction and target \n",
    "for index, line in enumerate(zipped_list):\n",
    "    x = [index, index]\n",
    "    plt.plot(x, line, linestyle='--', color='green')\n",
    "    \n",
    "plt.legend(loc='upper left')"
   ]
  },
  {
   "cell_type": "code",
   "execution_count": null,
   "metadata": {},
   "outputs": [],
   "source": []
  }
 ],
 "metadata": {
  "kernelspec": {
   "display_name": "Python 3",
   "language": "python",
   "name": "python3"
  },
  "language_info": {
   "codemirror_mode": {
    "name": "ipython",
    "version": 3
   },
   "file_extension": ".py",
   "mimetype": "text/x-python",
   "name": "python",
   "nbconvert_exporter": "python",
   "pygments_lexer": "ipython3",
   "version": "3.7.4"
  }
 },
 "nbformat": 4,
 "nbformat_minor": 2
}
