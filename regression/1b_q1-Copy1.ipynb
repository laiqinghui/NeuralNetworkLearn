{
 "cells": [
  {
   "cell_type": "code",
   "execution_count": 186,
   "metadata": {},
   "outputs": [],
   "source": [
    "import tensorflow as tf\n",
    "import pandas as pd\n",
    "import numpy as np\n",
    "\n",
    "from sklearn.model_selection import train_test_split\n",
    "from sklearn import preprocessing\n",
    "\n",
    "from matplotlib import pyplot as plt\n",
    "\n"
   ]
  },
  {
   "cell_type": "code",
   "execution_count": 187,
   "metadata": {},
   "outputs": [],
   "source": [
    "df = pd.read_csv(\"data/admission_predict.csv\")\n",
    "df = df.drop(['Serial No.'], axis=1)\n",
    "\n",
    "y = df['Chance of Admit'].to_numpy()\n",
    "y = np.reshape(y, (y.shape[0], 1))\n",
    "\n",
    "features = df.drop([\"Chance of Admit\", \"SOP\"], axis=1).to_numpy()\n",
    "\n",
    "np.random.seed(1337)\n",
    "tf.set_random_seed(1337)\n",
    "\n"
   ]
  },
  {
   "cell_type": "code",
   "execution_count": 188,
   "metadata": {},
   "outputs": [],
   "source": [
    "NUM_FEATURES = 6\n",
    "NUM_NEURON = 10\n",
    "\n",
    "learning_rate = 10**-3\n",
    "beta = 10**-3\n",
    "\n",
    "epochs = 1510\n",
    "batch_size = 8\n",
    "\n"
   ]
  },
  {
   "cell_type": "code",
   "execution_count": null,
   "metadata": {},
   "outputs": [],
   "source": []
  },
  {
   "cell_type": "code",
   "execution_count": 189,
   "metadata": {},
   "outputs": [],
   "source": [
    "x_train, x_test, y_train, y_test = train_test_split(features, y, test_size=0.3, random_state=42)"
   ]
  },
  {
   "cell_type": "code",
   "execution_count": 190,
   "metadata": {},
   "outputs": [],
   "source": [
    "scaler = preprocessing.StandardScaler()\n",
    "x_train = scaler.fit_transform(x_train)\n",
    "x_test = scaler.transform(x_test)"
   ]
  },
  {
   "cell_type": "code",
   "execution_count": 191,
   "metadata": {},
   "outputs": [],
   "source": [
    "#Create model\n",
    "#7 inputs, 1 output\n",
    "\n",
    "X = tf.placeholder(tf.float32, [None, NUM_FEATURES])\n",
    "Y = tf.placeholder(tf.float32, [None, 1])"
   ]
  },
  {
   "cell_type": "code",
   "execution_count": 192,
   "metadata": {},
   "outputs": [],
   "source": [
    "weights = {\n",
    "    'h1': tf.Variable(tf.truncated_normal([NUM_FEATURES, NUM_NEURON], seed=1337, stddev=1.0 / np.sqrt(NUM_FEATURES), dtype=tf.float32)),\n",
    "    'out': tf.Variable(tf.truncated_normal([NUM_NEURON, 1], seed=1337, stddev=1.0 / np.sqrt(NUM_FEATURES), dtype=tf.float32))# 1 ouput label\n",
    "}\n",
    "\n",
    "biases = {\n",
    "    'b1': tf.Variable(tf.zeros([1]), dtype=tf.float32),\n",
    "    'out': tf.Variable(tf.zeros([1]), dtype=tf.float32)\n",
    "}"
   ]
  },
  {
   "cell_type": "code",
   "execution_count": 193,
   "metadata": {},
   "outputs": [],
   "source": [
    "def neural_net(x):\n",
    "    #hidden layer 1\n",
    "    layer_1 = tf.add(tf.matmul(x, weights['h1']), biases['b1'])\n",
    "    layer_1 = tf.nn.relu(layer_1) #activation function\n",
    "    \n",
    "    out_layer = tf.matmul(layer_1, weights['out']) + biases['out']\n",
    "    return (out_layer)"
   ]
  },
  {
   "cell_type": "code",
   "execution_count": 194,
   "metadata": {},
   "outputs": [],
   "source": [
    "#predicted value\n",
    "Y_hat = neural_net(X)\n",
    "\n",
    "optimizer = tf.train.GradientDescentOptimizer(learning_rate)\n",
    "loss = tf.reduce_mean(tf.square(Y - Y_hat)) \n",
    "reg = tf.nn.l2_loss(weights['h1']) + tf.nn.l2_loss(weights['out'])\n",
    "\n",
    "\n",
    "train_op = optimizer.minimize(loss + reg * beta)"
   ]
  },
  {
   "cell_type": "code",
   "execution_count": 195,
   "metadata": {},
   "outputs": [
    {
     "name": "stdout",
     "output_type": "stream",
     "text": [
      "iter 0: train error 1.7992, test error 2.17451\n",
      "iter 10: train error 1.61245, test error 1.80678\n",
      "iter 20: train error 2.11285, test error 1.5709\n",
      "iter 30: train error 0.986357, test error 1.40384\n",
      "iter 40: train error 0.810446, test error 1.26604\n",
      "iter 50: train error 0.78586, test error 1.14469\n",
      "iter 60: train error 0.549066, test error 1.04484\n",
      "iter 70: train error 0.657823, test error 0.965619\n",
      "iter 80: train error 0.754466, test error 0.879653\n",
      "iter 90: train error 2.31578, test error 0.796801\n",
      "iter 100: train error 0.585843, test error 0.724005\n",
      "iter 110: train error 0.545802, test error 0.679998\n",
      "iter 120: train error 0.626742, test error 0.640949\n",
      "iter 130: train error 0.611801, test error 0.59236\n",
      "iter 140: train error 0.743788, test error 0.550945\n",
      "iter 150: train error 0.74864, test error 0.519305\n",
      "iter 160: train error 0.756649, test error 0.48714\n",
      "iter 170: train error 0.271205, test error 0.454115\n",
      "iter 180: train error 0.31444, test error 0.435844\n",
      "iter 190: train error 0.568621, test error 0.411504\n",
      "iter 200: train error 0.189269, test error 0.388748\n",
      "iter 210: train error 0.13797, test error 0.370331\n",
      "iter 220: train error 0.245946, test error 0.35225\n",
      "iter 230: train error 0.382009, test error 0.33812\n",
      "iter 240: train error 0.763811, test error 0.319901\n",
      "iter 250: train error 0.28016, test error 0.301736\n",
      "iter 260: train error 0.479444, test error 0.284858\n",
      "iter 270: train error 0.357122, test error 0.27121\n",
      "iter 280: train error 0.20233, test error 0.263927\n",
      "iter 290: train error 0.115337, test error 0.255476\n",
      "iter 300: train error 0.275194, test error 0.241484\n",
      "iter 310: train error 0.334246, test error 0.234261\n",
      "iter 320: train error 0.114474, test error 0.226482\n",
      "iter 330: train error 0.167082, test error 0.216566\n",
      "iter 340: train error 0.0830025, test error 0.20915\n",
      "iter 350: train error 0.169598, test error 0.201714\n",
      "iter 360: train error 0.18203, test error 0.196405\n",
      "iter 370: train error 0.443908, test error 0.190752\n",
      "iter 380: train error 0.140863, test error 0.185292\n",
      "iter 390: train error 0.0980788, test error 0.178843\n",
      "iter 400: train error 0.064573, test error 0.173733\n",
      "iter 410: train error 0.149878, test error 0.168885\n",
      "iter 420: train error 0.198713, test error 0.166283\n",
      "iter 430: train error 0.363537, test error 0.160939\n",
      "iter 440: train error 0.0881954, test error 0.157895\n",
      "iter 450: train error 0.104214, test error 0.154718\n",
      "iter 460: train error 0.373886, test error 0.147068\n",
      "iter 470: train error 0.0341964, test error 0.143909\n",
      "iter 480: train error 0.109976, test error 0.139951\n",
      "iter 490: train error 0.13625, test error 0.13693\n",
      "iter 500: train error 0.23093, test error 0.1342\n",
      "iter 510: train error 0.0751144, test error 0.131231\n",
      "iter 520: train error 0.0916009, test error 0.12865\n",
      "iter 530: train error 0.0658281, test error 0.125652\n",
      "iter 540: train error 0.120401, test error 0.123199\n",
      "iter 550: train error 0.0933231, test error 0.120864\n",
      "iter 560: train error 0.101714, test error 0.117854\n",
      "iter 570: train error 0.108231, test error 0.115231\n",
      "iter 580: train error 0.0801604, test error 0.113553\n",
      "iter 590: train error 0.177095, test error 0.111786\n",
      "iter 600: train error 0.0815115, test error 0.109918\n",
      "iter 610: train error 0.0496785, test error 0.108155\n",
      "iter 620: train error 0.0312609, test error 0.106092\n",
      "iter 630: train error 0.133523, test error 0.105048\n",
      "iter 640: train error 0.0741269, test error 0.103497\n",
      "iter 650: train error 0.155154, test error 0.102162\n",
      "iter 660: train error 0.0398816, test error 0.10069\n",
      "iter 670: train error 0.155442, test error 0.0992828\n",
      "iter 680: train error 0.108726, test error 0.097483\n",
      "iter 690: train error 0.0617401, test error 0.0955928\n",
      "iter 700: train error 0.0493396, test error 0.0942666\n",
      "iter 710: train error 0.037644, test error 0.0931917\n",
      "iter 720: train error 0.0395965, test error 0.0920814\n",
      "iter 730: train error 0.0545132, test error 0.0908239\n",
      "iter 740: train error 0.201262, test error 0.0895206\n",
      "iter 750: train error 0.0560295, test error 0.088476\n",
      "iter 760: train error 0.0475205, test error 0.0870938\n",
      "iter 770: train error 0.153487, test error 0.0857803\n",
      "iter 780: train error 0.0582257, test error 0.0848731\n",
      "iter 790: train error 0.023374, test error 0.0838467\n",
      "iter 800: train error 0.0677655, test error 0.0829429\n",
      "iter 810: train error 0.108548, test error 0.0818695\n",
      "iter 820: train error 0.0257535, test error 0.0808011\n",
      "iter 830: train error 0.0553969, test error 0.0799462\n",
      "iter 840: train error 0.0359786, test error 0.0792022\n",
      "iter 850: train error 0.102473, test error 0.0784951\n",
      "iter 860: train error 0.0706169, test error 0.0777863\n",
      "iter 870: train error 0.0510419, test error 0.077099\n",
      "iter 880: train error 0.0406269, test error 0.0760742\n",
      "iter 890: train error 0.0483713, test error 0.0751589\n",
      "iter 900: train error 0.0306998, test error 0.0745162\n",
      "iter 910: train error 0.0713337, test error 0.0738917\n",
      "iter 920: train error 0.123069, test error 0.0729982\n",
      "iter 930: train error 0.0908174, test error 0.0724551\n",
      "iter 940: train error 0.0468376, test error 0.0720855\n",
      "iter 950: train error 0.0543659, test error 0.0713329\n",
      "iter 960: train error 0.0413441, test error 0.0705702\n",
      "iter 970: train error 0.0771682, test error 0.0695964\n",
      "iter 980: train error 0.0390664, test error 0.068886\n",
      "iter 990: train error 0.109732, test error 0.0682293\n",
      "iter 1000: train error 0.0385211, test error 0.0675744\n",
      "iter 1010: train error 0.0543983, test error 0.0668895\n",
      "iter 1020: train error 0.0408359, test error 0.0663612\n",
      "iter 1030: train error 0.0279521, test error 0.0658584\n",
      "iter 1040: train error 0.0294187, test error 0.0652653\n",
      "iter 1050: train error 0.0465285, test error 0.0649242\n",
      "iter 1060: train error 0.011102, test error 0.0643465\n",
      "iter 1070: train error 0.0783477, test error 0.063723\n",
      "iter 1080: train error 0.14313, test error 0.0629908\n",
      "iter 1090: train error 0.027606, test error 0.0625208\n",
      "iter 1100: train error 0.040166, test error 0.0621283\n",
      "iter 1110: train error 0.0312432, test error 0.0615447\n",
      "iter 1120: train error 0.0503289, test error 0.0610048\n",
      "iter 1130: train error 0.0361192, test error 0.0607059\n",
      "iter 1140: train error 0.0439314, test error 0.060378\n",
      "iter 1150: train error 0.0640522, test error 0.0598477\n",
      "iter 1160: train error 0.0674888, test error 0.0592348\n",
      "iter 1170: train error 0.0682002, test error 0.0588531\n",
      "iter 1180: train error 0.0345591, test error 0.0585177\n",
      "iter 1190: train error 0.0298973, test error 0.0580693\n",
      "iter 1200: train error 0.0284191, test error 0.0577658\n",
      "iter 1210: train error 0.0458477, test error 0.0573829\n",
      "iter 1220: train error 0.0257768, test error 0.0571249\n",
      "iter 1230: train error 0.0413909, test error 0.056649\n",
      "iter 1240: train error 0.0401143, test error 0.0562353\n",
      "iter 1250: train error 0.0376031, test error 0.055991\n",
      "iter 1260: train error 0.0328393, test error 0.0557432\n",
      "iter 1270: train error 0.0195197, test error 0.0554436\n",
      "iter 1280: train error 0.0398211, test error 0.0551556\n",
      "iter 1290: train error 0.0278512, test error 0.0548082\n",
      "iter 1300: train error 0.0466895, test error 0.0543693\n",
      "iter 1310: train error 0.0422749, test error 0.0541471\n",
      "iter 1320: train error 0.102099, test error 0.0537533\n",
      "iter 1330: train error 0.024937, test error 0.0534328\n",
      "iter 1340: train error 0.0260694, test error 0.0531366\n",
      "iter 1350: train error 0.0499624, test error 0.0529385\n",
      "iter 1360: train error 0.0267642, test error 0.0526343\n",
      "iter 1370: train error 0.0539086, test error 0.0523598\n",
      "iter 1380: train error 0.0135695, test error 0.0519761\n",
      "iter 1390: train error 0.0162936, test error 0.0517135\n",
      "iter 1400: train error 0.0499843, test error 0.0513745\n",
      "iter 1410: train error 0.0465914, test error 0.0508771\n",
      "iter 1420: train error 0.0497971, test error 0.0506327\n",
      "iter 1430: train error 0.0376021, test error 0.0503425\n",
      "iter 1440: train error 0.0205924, test error 0.0500154\n",
      "iter 1450: train error 0.0494899, test error 0.0498345\n",
      "iter 1460: train error 0.0191361, test error 0.0496508\n",
      "iter 1470: train error 0.0367632, test error 0.0493091\n",
      "iter 1480: train error 0.0138035, test error 0.0490689\n",
      "iter 1490: train error 0.0389853, test error 0.0489428\n",
      "iter 1500: train error 0.0643248, test error 0.0486259\n"
     ]
    }
   ],
   "source": [
    "#Train the model with x-train\n",
    "with tf.Session() as sess:\n",
    "    sess.run(tf.global_variables_initializer())\n",
    "    batch_train_err = []\n",
    "    test_err = []\n",
    "    for i in range(epochs):\n",
    "        \n",
    "        #Batch training\n",
    "        #pick random batch_size data points from x_train\n",
    "        rand_index = np.random.choice(x_train.shape[0], size=batch_size)\n",
    "        x_batch = x_train[rand_index]\n",
    "        y_batch = y_train[rand_index]\n",
    "        \n",
    "        train_op.run(feed_dict={X:x_batch, Y:y_batch})\n",
    "        err = loss.eval(feed_dict={X: x_batch, Y: y_batch})\n",
    "          \n",
    "        if(i%10==0):\n",
    "            batch_train_err.append(err)\n",
    "            \n",
    "            #For Q1a)\n",
    "            test_err.append(loss.eval(feed_dict={X: x_test, Y: y_test}))   \n",
    "            print('iter %d: train error %g, test error %g'%(i, batch_train_err[-1], test_err[-1]))\n",
    "             \n",
    "    \n",
    "    \n",
    "    #Q1c) Select 50 x_test samples\n",
    "    sample_index = np.random.choice(x_test.shape[0], size=50)\n",
    "    x_test_sample = x_test[sample_index]\n",
    "    y_test_sample = y_test[sample_index]\n",
    "    #plot y_hat and y_test\n",
    "\n",
    "    pred = sess.run(Y_hat, feed_dict={X:x_test_sample})\n"
   ]
  },
  {
   "cell_type": "code",
   "execution_count": 196,
   "metadata": {},
   "outputs": [
    {
     "data": {
      "text/plain": [
       "<matplotlib.legend.Legend at 0x183a3125d48>"
      ]
     },
     "execution_count": 196,
     "metadata": {},
     "output_type": "execute_result"
    },
    {
     "data": {
      "image/png": "[encoded data removed]",
      "text/plain": [
       "<Figure size 432x288 with 1 Axes>"
      ]
     },
     "metadata": {
      "needs_background": "light"
     },
     "output_type": "display_data"
    }
   ],
   "source": [
    "#Q1a plot train err against test err\n",
    "plt.plot(range(0, epochs, 10), batch_train_err, color='blue', label='Train Error')\n",
    "plt.plot(range(0, epochs, 10), test_err, color ='red', label='Test Error')\n",
    "plt.legend(loc='upper left')"
   ]
  },
  {
   "cell_type": "code",
   "execution_count": 197,
   "metadata": {},
   "outputs": [
    {
     "data": {
      "text/plain": [
       "<matplotlib.legend.Legend at 0x183a2dbcc88>"
      ]
     },
     "execution_count": 197,
     "metadata": {},
     "output_type": "execute_result"
    },
    {
     "data": {
      "image/png": "[encoded data removed]",
      "text/plain": [
       "<Figure size 1440x360 with 1 Axes>"
      ]
     },
     "metadata": {
      "needs_background": "light"
     },
     "output_type": "display_data"
    }
   ],
   "source": [
    "plt.figure(figsize=(20,5))\n",
    "\n",
    "plt.plot(pred, color='blue', linestyle='', marker='o', label='Test Predictions')\n",
    "plt.plot(y_test_sample, color='red', linestyle='', marker='x', label='Test Target')\n",
    "\n",
    "zipped_list = zip(pred.tolist(), y_test_sample.tolist())\n",
    "\n",
    "\n",
    "#connects the dots between the preidction and target \n",
    "for index, line in enumerate(zipped_list):\n",
    "    x = [index, index]\n",
    "    plt.plot(x, line, linestyle='--', color='green')\n",
    "    \n",
    "plt.legend(loc='upper left')"
   ]
  }
 ],
 "metadata": {
  "kernelspec": {
   "display_name": "Python 3",
   "language": "python",
   "name": "python3"
  },
  "language_info": {
   "codemirror_mode": {
    "name": "ipython",
    "version": 3
   },
   "file_extension": ".py",
   "mimetype": "text/x-python",
   "name": "python",
   "nbconvert_exporter": "python",
   "pygments_lexer": "ipython3",
   "version": "3.7.4"
  }
 },
 "nbformat": 4,
 "nbformat_minor": 2
}
