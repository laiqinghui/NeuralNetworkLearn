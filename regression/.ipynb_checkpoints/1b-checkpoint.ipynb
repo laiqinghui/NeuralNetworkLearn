{
 "cells": [
  {
   "cell_type": "code",
   "execution_count": 95,
   "metadata": {},
   "outputs": [],
   "source": [
    "import tensorflow as tf\n",
    "import pandas as pd\n",
    "import numpy as np\n",
    "\n",
    "from sklearn.model_selection import train_test_split\n",
    "from sklearn import preprocessing\n",
    "\n",
    "from matplotlib import pyplot as plt"
   ]
  },
  {
   "cell_type": "code",
   "execution_count": 96,
   "metadata": {},
   "outputs": [],
   "source": [
    "df = pd.read_csv(\"data/admission_predict.csv\")\n",
    "df = df.drop(['Serial No.'], axis=1)\n",
    "\n",
    "y = df['Chance of Admit'].to_numpy()\n",
    "y = np.reshape(y, (y.shape[0], 1))\n",
    "\n",
    "features = df.drop([\"Chance of Admit\"], axis=1).to_numpy()\n",
    "\n",
    "np.random.seed(1337)\n",
    "tf.set_random_seed(1337)"
   ]
  },
  {
   "cell_type": "code",
   "execution_count": 97,
   "metadata": {},
   "outputs": [],
   "source": [
    "NUM_FEATURES = 7\n",
    "NUM_NEURON = 10\n",
    "\n",
    "learning_rate = 0.01\n",
    "beta = 0.01\n",
    "\n",
    "epochs = 5000\n",
    "batch_size = 8\n",
    "\n"
   ]
  },
  {
   "cell_type": "code",
   "execution_count": 98,
   "metadata": {},
   "outputs": [],
   "source": [
    "x_train, x_test, y_train, y_test = train_test_split(features, y, test_size=0.3, random_state=42)"
   ]
  },
  {
   "cell_type": "code",
   "execution_count": 99,
   "metadata": {},
   "outputs": [],
   "source": [
    "scaler = preprocessing.StandardScaler()\n",
    "x_train = scaler.fit_transform(x_train)\n",
    "x_test = scaler.transform(x_test)"
   ]
  },
  {
   "cell_type": "code",
   "execution_count": 100,
   "metadata": {},
   "outputs": [],
   "source": [
    "#Create model\n",
    "#7 inputs, 1 output\n",
    "X = tf.placeholder(tf.float32, [None, NUM_FEATURES])\n",
    "Y = tf.placeholder(tf.float32, [None, 1])"
   ]
  },
  {
   "cell_type": "code",
   "execution_count": 101,
   "metadata": {},
   "outputs": [],
   "source": [
    "weights = {\n",
    "    'h1': tf.Variable(tf.random_normal([NUM_FEATURES, NUM_NEURON])),\n",
    "    'out': tf.Variable(tf.random_normal([NUM_NEURON, 1]))# 1 ouput label\n",
    "}\n",
    "\n",
    "biases = {\n",
    "    'b1': tf.Variable(tf.random_normal([10])),\n",
    "    'out': tf.Variable(tf.random_normal([1]))\n",
    "}"
   ]
  },
  {
   "cell_type": "code",
   "execution_count": 102,
   "metadata": {},
   "outputs": [],
   "source": [
    "def neural_net(x):\n",
    "    #hidden layer 1\n",
    "    layer_1 = tf.add(tf.matmul(x, weights['h1']), biases['b1'])\n",
    "    layer_1 = tf.nn.relu(layer_1) #activation function\n",
    "    \n",
    "    out_layer = tf.matmul(layer_1, weights['out']) + biases['out']\n",
    "    return (out_layer)"
   ]
  },
  {
   "cell_type": "code",
   "execution_count": 103,
   "metadata": {},
   "outputs": [],
   "source": [
    "#predicted value\n",
    "Y_hat = neural_net(X)\n",
    "\n",
    "optimizer = tf.train.GradientDescentOptimizer(learning_rate)\n",
    "\n",
    "\n",
    "loss = tf.reduce_mean(tf.square(Y - Y_hat))\n",
    "\n",
    "reg = tf.nn.l2_loss(weights['h1'])\n",
    "\n",
    "\n",
    "train_op = optimizer.minimize(loss + reg * beta)"
   ]
  },
  {
   "cell_type": "code",
   "execution_count": 104,
   "metadata": {},
   "outputs": [
    {
     "name": "stdout",
     "output_type": "stream",
     "text": [
      "iter 0: train error 8.29158\n",
      "iter 100: train error 0.122565\n",
      "iter 200: train error 0.0377497\n",
      "iter 300: train error 0.0249174\n",
      "iter 400: train error 0.041991\n",
      "iter 500: train error 0.0037164\n",
      "iter 600: train error 0.00735791\n",
      "iter 700: train error 0.0120433\n",
      "iter 800: train error 0.00888771\n",
      "iter 900: train error 0.014045\n",
      "iter 1000: train error 0.00652918\n",
      "iter 1100: train error 0.0169637\n",
      "iter 1200: train error 0.0179447\n",
      "iter 1300: train error 0.0109354\n",
      "iter 1400: train error 0.0102726\n",
      "iter 1500: train error 0.0230536\n",
      "iter 1600: train error 0.0166338\n",
      "iter 1700: train error 0.00680081\n",
      "iter 1800: train error 0.00150205\n",
      "iter 1900: train error 0.00282296\n"
     ]
    }
   ],
   "source": [
    "with tf.Session() as sess:\n",
    "    sess.run(tf.global_variables_initializer())\n",
    "    train_err = []\n",
    "    for i in range(epochs):\n",
    "        \n",
    "        #Batch training\n",
    "        #pick random batch_size data points from x_train\n",
    "        rand_index = np.random.choice(x_train.shape[0], size=batch_size)\n",
    "        \n",
    "            \n",
    "        x_batch = x_train[rand_index]\n",
    "        y_batch = y_train[rand_index]\n",
    "        \n",
    "        train_op.run(feed_dict={X:x_batch, Y:y_batch})\n",
    "        err = loss.eval(feed_dict={X: x_batch, Y: y_batch})\n",
    "        train_err.append(err)\n",
    "        \n",
    "        if(i%100==0):\n",
    "            print('iter %d: train error %g'%(i, train_err[i]))\n",
    "        "
   ]
  },
  {
   "cell_type": "code",
   "execution_count": 107,
   "metadata": {},
   "outputs": [
    {
     "name": "stdout",
     "output_type": "stream",
     "text": [
      "iter 0: train error 14.3219\n",
      "iter 100: train error 0.194743\n",
      "iter 200: train error 0.102217\n",
      "iter 300: train error 0.0666556\n",
      "iter 400: train error 0.0481338\n",
      "iter 500: train error 0.0364151\n",
      "iter 600: train error 0.0294573\n",
      "iter 700: train error 0.0247737\n",
      "iter 800: train error 0.0215029\n",
      "iter 900: train error 0.0189358\n",
      "iter 1000: train error 0.0169348\n",
      "iter 1100: train error 0.0153364\n",
      "iter 1200: train error 0.0140657\n",
      "iter 1300: train error 0.0129601\n",
      "iter 1400: train error 0.0120704\n",
      "iter 1500: train error 0.0113413\n",
      "iter 1600: train error 0.0107071\n",
      "iter 1700: train error 0.0101616\n",
      "iter 1800: train error 0.00967951\n",
      "iter 1900: train error 0.00924901\n"
     ]
    }
   ],
   "source": [
    "with tf.Session() as sess:\n",
    "    sess.run(tf.global_variables_initializer())\n",
    "    train_err = []\n",
    "    for i in range(epochs):\n",
    "        \n",
    "        #Batch training\n",
    "        #pick random batch_size data points from x_train\n",
    "        train_op.run(feed_dict={X:x_train, Y:y_train})\n",
    "        err = loss.eval(feed_dict={X: x_train, Y: y_train})\n",
    "        train_err.append(err)\n",
    "        \n",
    "        if(i%100==0):\n",
    "            print('iter %d: train error %g'%(i, train_err[i]))\n",
    "            \n",
    "        pred = sess.run(Y_hat, feed_dict={X: x_test})"
   ]
  },
  {
   "cell_type": "code",
   "execution_count": 109,
   "metadata": {},
   "outputs": [
    {
     "data": {
      "text/plain": [
       "<matplotlib.legend.Legend at 0x1e5b15926c8>"
      ]
     },
     "execution_count": 109,
     "metadata": {},
     "output_type": "execute_result"
    },
    {
     "data": {
      "image/png": "[encoded data removed]",
      "text/plain": [
       "<Figure size 432x288 with 1 Axes>"
      ]
     },
     "metadata": {
      "needs_background": "light"
     },
     "output_type": "display_data"
    }
   ],
   "source": [
    "plt.plot((pred), color='red', label='Prediction')\n",
    "plt.plot(y_test, color='blue', label='Original')\n",
    "plt.legend(loc='upper left')"
   ]
  },
  {
   "cell_type": "code",
   "execution_count": null,
   "metadata": {},
   "outputs": [],
   "source": []
  }
 ],
 "metadata": {
  "kernelspec": {
   "display_name": "Python 3",
   "language": "python",
   "name": "python3"
  }
 },
 "nbformat": 4,
 "nbformat_minor": 2
}
