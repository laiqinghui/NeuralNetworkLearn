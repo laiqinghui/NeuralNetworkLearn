{
 "cells": [
  {
   "cell_type": "code",
   "execution_count": 273,
   "metadata": {},
   "outputs": [],
   "source": [
    "import tensorflow as tf\n",
    "import pandas as pd\n",
    "import numpy as np\n",
    "\n",
    "from sklearn.model_selection import train_test_split\n",
    "from sklearn import preprocessing\n",
    "\n",
    "from matplotlib import pyplot as plt"
   ]
  },
  {
   "cell_type": "code",
   "execution_count": 274,
   "metadata": {},
   "outputs": [],
   "source": [
    "df = pd.read_csv(\"data/admission_predict.csv\")\n",
    "df = df.drop(['Serial No.'], axis=1)\n",
    "\n",
    "y = df['Chance of Admit'].to_numpy()\n",
    "y = np.reshape(y, (y.shape[0], 1))\n",
    "\n",
    "features = df.drop([\"Chance of Admit\"], axis=1).to_numpy()\n",
    "\n",
    "np.random.seed(1337)\n",
    "tf.set_random_seed(1337)\n"
   ]
  },
  {
   "cell_type": "code",
   "execution_count": 275,
   "metadata": {},
   "outputs": [],
   "source": [
    "NUM_FEATURES = 7\n",
    "NUM_NEURON = 10\n",
    "\n",
    "learning_rate = 10**-3\n",
    "beta = 10**-3\n",
    "\n",
    "epochs = 1500\n",
    "batch_size = 8\n",
    "\n"
   ]
  },
  {
   "cell_type": "code",
   "execution_count": 276,
   "metadata": {},
   "outputs": [],
   "source": [
    "x_train, x_test, y_train, y_test = train_test_split(features, y, test_size=0.3, random_state=42)"
   ]
  },
  {
   "cell_type": "code",
   "execution_count": 277,
   "metadata": {},
   "outputs": [],
   "source": [
    "scaler = preprocessing.StandardScaler()\n",
    "x_train = scaler.fit_transform(x_train)\n",
    "x_test = scaler.transform(x_test)"
   ]
  },
  {
   "cell_type": "code",
   "execution_count": 278,
   "metadata": {},
   "outputs": [],
   "source": [
    "#Create model\n",
    "#7 inputs, 1 output\n",
    "X = tf.placeholder(tf.float32, [None, NUM_FEATURES])\n",
    "Y = tf.placeholder(tf.float32, [None, 1])"
   ]
  },
  {
   "cell_type": "code",
   "execution_count": 279,
   "metadata": {},
   "outputs": [],
   "source": [
    "weights = {\n",
    "    'h1': tf.Variable(tf.random_normal([NUM_FEATURES, NUM_NEURON])),\n",
    "    'out': tf.Variable(tf.random_normal([NUM_NEURON, 1]))# 1 ouput label\n",
    "}\n",
    "\n",
    "biases = {\n",
    "    'b1': tf.Variable(tf.random_normal([10])),\n",
    "    'out': tf.Variable(tf.random_normal([1]))\n",
    "}"
   ]
  },
  {
   "cell_type": "code",
   "execution_count": 280,
   "metadata": {},
   "outputs": [],
   "source": [
    "def neural_net(x):\n",
    "    #hidden layer 1\n",
    "    layer_1 = tf.add(tf.matmul(x, weights['h1']), biases['b1'])\n",
    "    layer_1 = tf.nn.relu(layer_1) #activation function\n",
    "    \n",
    "    out_layer = tf.matmul(layer_1, weights['out']) + biases['out']\n",
    "    return (out_layer)"
   ]
  },
  {
   "cell_type": "code",
   "execution_count": 281,
   "metadata": {},
   "outputs": [],
   "source": [
    "#predicted value\n",
    "Y_hat = neural_net(X)\n",
    "\n",
    "optimizer = tf.train.GradientDescentOptimizer(learning_rate)\n",
    "loss = tf.reduce_mean(tf.square(Y - Y_hat)) \n",
    "reg = tf.nn.l2_loss(weights['h1']) + tf.nn.l2_loss(weights['out'])\n",
    "\n",
    "\n",
    "train_op = optimizer.minimize(loss + reg * beta)"
   ]
  },
  {
   "cell_type": "code",
   "execution_count": 291,
   "metadata": {},
   "outputs": [
    {
     "name": "stdout",
     "output_type": "stream",
     "text": [
      "iter 0: train error 24.0972, test error 22.4379\n",
      "iter 10: train error 8.40686, test error 13.8327\n",
      "iter 20: train error 12.1779, test error 8.59387\n",
      "iter 30: train error 3.98853, test error 6.54059\n",
      "iter 40: train error 5.88816, test error 5.19426\n",
      "iter 50: train error 10.0905, test error 4.59274\n",
      "iter 60: train error 7.96397, test error 4.10153\n",
      "iter 70: train error 1.14719, test error 3.69901\n",
      "iter 80: train error 5.92184, test error 3.29417\n",
      "iter 90: train error 4.093, test error 3.01971\n",
      "iter 100: train error 2.40302, test error 2.95887\n",
      "iter 110: train error 2.55518, test error 2.67798\n",
      "iter 120: train error 3.96223, test error 2.60524\n",
      "iter 130: train error 3.3392, test error 2.35922\n",
      "iter 140: train error 3.24968, test error 2.23239\n",
      "iter 150: train error 2.0333, test error 2.07964\n",
      "iter 160: train error 1.78631, test error 2.01519\n",
      "iter 170: train error 2.32544, test error 1.84696\n",
      "iter 180: train error 3.28616, test error 1.6713\n",
      "iter 190: train error 2.30675, test error 1.60496\n",
      "iter 200: train error 0.903109, test error 1.50352\n",
      "iter 210: train error 1.20894, test error 1.42864\n",
      "iter 220: train error 0.758464, test error 1.38753\n",
      "iter 230: train error 1.39936, test error 1.3866\n",
      "iter 240: train error 1.17437, test error 1.32587\n",
      "iter 250: train error 2.35686, test error 1.22436\n",
      "iter 260: train error 1.51805, test error 1.19525\n",
      "iter 270: train error 0.446543, test error 1.12748\n",
      "iter 280: train error 2.35972, test error 1.07795\n",
      "iter 290: train error 2.45503, test error 1.01916\n",
      "iter 300: train error 0.829142, test error 0.988072\n",
      "iter 310: train error 0.232159, test error 0.923052\n",
      "iter 320: train error 0.831417, test error 0.901113\n",
      "iter 330: train error 0.56866, test error 0.892944\n",
      "iter 340: train error 1.73427, test error 0.844836\n",
      "iter 350: train error 0.487498, test error 0.821445\n",
      "iter 360: train error 0.762166, test error 0.790252\n",
      "iter 370: train error 0.356161, test error 0.787278\n",
      "iter 380: train error 1.60516, test error 0.760823\n",
      "iter 390: train error 0.852213, test error 0.717214\n",
      "iter 400: train error 0.548361, test error 0.676659\n",
      "iter 410: train error 0.919456, test error 0.655785\n",
      "iter 420: train error 0.642784, test error 0.642119\n",
      "iter 430: train error 0.487485, test error 0.642171\n",
      "iter 440: train error 0.46357, test error 0.621704\n",
      "iter 450: train error 0.563046, test error 0.592279\n",
      "iter 460: train error 0.436896, test error 0.58241\n",
      "iter 470: train error 0.340808, test error 0.558786\n",
      "iter 480: train error 0.169306, test error 0.548393\n",
      "iter 490: train error 0.2069, test error 0.527365\n",
      "iter 500: train error 0.279762, test error 0.52148\n",
      "iter 510: train error 0.357191, test error 0.505969\n",
      "iter 520: train error 0.406613, test error 0.501259\n",
      "iter 530: train error 0.196087, test error 0.493845\n",
      "iter 540: train error 0.886043, test error 0.482339\n",
      "iter 550: train error 0.438943, test error 0.470575\n",
      "iter 560: train error 0.560832, test error 0.470003\n",
      "iter 570: train error 0.658757, test error 0.462935\n",
      "iter 580: train error 0.301566, test error 0.44742\n",
      "iter 590: train error 0.929073, test error 0.433875\n",
      "iter 600: train error 0.342094, test error 0.423633\n",
      "iter 610: train error 0.216543, test error 0.420728\n",
      "iter 620: train error 0.475914, test error 0.410301\n",
      "iter 630: train error 0.544827, test error 0.408735\n",
      "iter 640: train error 0.44707, test error 0.40881\n",
      "iter 650: train error 0.123597, test error 0.399354\n",
      "iter 660: train error 0.114438, test error 0.39097\n",
      "iter 670: train error 0.395018, test error 0.386521\n",
      "iter 680: train error 0.426851, test error 0.37849\n",
      "iter 690: train error 0.186599, test error 0.376064\n",
      "iter 700: train error 0.25236, test error 0.369071\n",
      "iter 710: train error 0.498228, test error 0.36375\n",
      "iter 720: train error 0.652526, test error 0.355867\n",
      "iter 730: train error 0.10915, test error 0.351004\n",
      "iter 740: train error 0.506159, test error 0.346365\n",
      "iter 750: train error 0.281859, test error 0.344882\n",
      "iter 760: train error 0.0770669, test error 0.340601\n",
      "iter 770: train error 0.266876, test error 0.33885\n",
      "iter 780: train error 0.348732, test error 0.330415\n",
      "iter 790: train error 0.249149, test error 0.325497\n",
      "iter 800: train error 0.528563, test error 0.323806\n",
      "iter 810: train error 0.0779339, test error 0.316549\n",
      "iter 820: train error 0.405554, test error 0.318028\n",
      "iter 830: train error 0.240886, test error 0.313655\n",
      "iter 840: train error 0.173739, test error 0.310784\n",
      "iter 850: train error 0.117633, test error 0.308598\n",
      "iter 860: train error 0.205391, test error 0.306077\n",
      "iter 870: train error 0.116507, test error 0.297653\n",
      "iter 880: train error 0.246836, test error 0.296836\n",
      "iter 890: train error 0.219624, test error 0.293461\n",
      "iter 900: train error 0.311453, test error 0.294183\n",
      "iter 910: train error 0.356381, test error 0.288746\n",
      "iter 920: train error 0.106076, test error 0.287212\n",
      "iter 930: train error 0.0442692, test error 0.286201\n",
      "iter 940: train error 0.0783069, test error 0.281183\n",
      "iter 950: train error 0.0500017, test error 0.280128\n",
      "iter 960: train error 0.0676502, test error 0.275739\n",
      "iter 970: train error 0.247106, test error 0.273468\n",
      "iter 980: train error 0.070487, test error 0.268441\n",
      "iter 990: train error 0.347219, test error 0.264703\n",
      "iter 1000: train error 0.145997, test error 0.26402\n",
      "iter 1010: train error 0.0801053, test error 0.262006\n",
      "iter 1020: train error 0.586157, test error 0.259942\n",
      "iter 1030: train error 0.535325, test error 0.257955\n",
      "iter 1040: train error 0.134199, test error 0.253711\n",
      "iter 1050: train error 0.32452, test error 0.254959\n",
      "iter 1060: train error 0.255939, test error 0.251508\n",
      "iter 1070: train error 0.122908, test error 0.248849\n",
      "iter 1080: train error 0.139511, test error 0.246198\n",
      "iter 1090: train error 0.28398, test error 0.243252\n",
      "iter 1100: train error 0.29599, test error 0.244127\n",
      "iter 1110: train error 0.285198, test error 0.240352\n",
      "iter 1120: train error 0.0992034, test error 0.238907\n",
      "iter 1130: train error 0.0570031, test error 0.238053\n",
      "iter 1140: train error 0.311595, test error 0.234502\n",
      "iter 1150: train error 0.212558, test error 0.234034\n",
      "iter 1160: train error 0.181418, test error 0.231936\n",
      "iter 1170: train error 0.112914, test error 0.234229\n",
      "iter 1180: train error 0.225575, test error 0.236002\n",
      "iter 1190: train error 0.158038, test error 0.236133\n",
      "iter 1200: train error 0.111602, test error 0.233944\n",
      "iter 1210: train error 0.257284, test error 0.228905\n",
      "iter 1220: train error 0.272396, test error 0.224329\n",
      "iter 1230: train error 0.286058, test error 0.221148\n",
      "iter 1240: train error 0.294205, test error 0.219293\n",
      "iter 1250: train error 0.0565361, test error 0.218802\n",
      "iter 1260: train error 0.456925, test error 0.219424\n",
      "iter 1270: train error 0.318511, test error 0.217657\n",
      "iter 1280: train error 0.395025, test error 0.21565\n",
      "iter 1290: train error 0.214752, test error 0.21172\n",
      "iter 1300: train error 0.128264, test error 0.210724\n",
      "iter 1310: train error 0.291517, test error 0.209977\n",
      "iter 1320: train error 0.184606, test error 0.207562\n",
      "iter 1330: train error 0.153647, test error 0.206554\n",
      "iter 1340: train error 0.157309, test error 0.206031\n",
      "iter 1350: train error 0.143228, test error 0.204514\n",
      "iter 1360: train error 0.0786248, test error 0.202141\n",
      "iter 1370: train error 0.177026, test error 0.200342\n",
      "iter 1380: train error 0.156709, test error 0.201107\n",
      "iter 1390: train error 0.152489, test error 0.198672\n",
      "iter 1400: train error 0.057959, test error 0.197321\n",
      "iter 1410: train error 0.359799, test error 0.197274\n",
      "iter 1420: train error 0.185984, test error 0.195484\n",
      "iter 1430: train error 0.136549, test error 0.195021\n",
      "iter 1440: train error 0.430319, test error 0.19161\n",
      "iter 1450: train error 0.146875, test error 0.192404\n",
      "iter 1460: train error 0.105059, test error 0.195044\n",
      "iter 1470: train error 0.105942, test error 0.19012\n",
      "iter 1480: train error 0.200187, test error 0.189197\n",
      "iter 1490: train error 0.172931, test error 0.187628\n"
     ]
    }
   ],
   "source": [
    "#Train the model with x-train\n",
    "with tf.Session() as sess:\n",
    "    sess.run(tf.global_variables_initializer())\n",
    "    batch_train_err = []\n",
    "    test_err = []\n",
    "    for i in range(epochs):\n",
    "        \n",
    "        #Batch training\n",
    "        #pick random batch_size data points from x_train\n",
    "        rand_index = np.random.choice(x_train.shape[0], size=batch_size)\n",
    "        x_batch = x_train[rand_index]\n",
    "        y_batch = y_train[rand_index]\n",
    "        \n",
    "        train_op.run(feed_dict={X:x_batch, Y:y_batch})\n",
    "        err = loss.eval(feed_dict={X: x_batch, Y: y_batch})\n",
    "          \n",
    "        if(i%10==0):\n",
    "            batch_train_err.append(err)\n",
    "            \n",
    "            #For Q1a)\n",
    "            test_err.append(loss.eval(feed_dict={X: x_test, Y: y_test}))   \n",
    "            print('iter %d: train error %g, test error %g'%(i, batch_train_err[-1], test_err[-1]))\n",
    "             \n",
    "    \n",
    "    \n",
    "    #Q1c) Select 50 x_test samples\n",
    "    sample_index = np.random.choice(x_test.shape[0], size=50)\n",
    "    x_test_sample = x_test[sample_index]\n",
    "    y_test_sample = y_test[sample_index]\n",
    "    #plot y_hat and y_test\n",
    "\n",
    "    pred = sess.run(Y_hat, feed_dict={X:x_test_sample})\n"
   ]
  },
  {
   "cell_type": "code",
   "execution_count": 285,
   "metadata": {},
   "outputs": [
    {
     "data": {
      "image/png": "[encoded data removed]",
      "text/plain": [
       "<Figure size 432x288 with 1 Axes>"
      ]
     },
     "metadata": {
      "needs_background": "light"
     },
     "output_type": "display_data"
    }
   ],
   "source": [
    "#Q1a plot train err against test err\n",
    "plt.plot(range(0, epochs, 10), batch_train_err, color='blue', label='Train Error')\n",
    "plt.plot(range(0, epochs, 10), test_err, color ='red', label='Test Error')\n",
    "plt.legend(loc='upper left')\n",
    "plt.savefig('q1a.png')"
   ]
  },
  {
   "cell_type": "code",
   "execution_count": 335,
   "metadata": {},
   "outputs": [
    {
     "data": {
      "text/plain": [
       "<matplotlib.legend.Legend at 0x7fbed92c09b0>"
      ]
     },
     "execution_count": 335,
     "metadata": {},
     "output_type": "execute_result"
    },
    {
     "data": {
      "image/png": "[encoded data removed]",
      "text/plain": [
       "<Figure size 1440x360 with 1 Axes>"
      ]
     },
     "metadata": {
      "needs_background": "light"
     },
     "output_type": "display_data"
    }
   ],
   "source": [
    "plt.figure(figsize=(20,5))\n",
    "\n",
    "plt.plot(pred, color='blue', linestyle='', marker='o', label='Test Predictions')\n",
    "plt.plot(y_test_sample, color='red', linestyle='', marker='x', label='Test Target')\n",
    "\n",
    "zipped_list = zip(pred.tolist(), y_test_sample.tolist())\n",
    "\n",
    "\n",
    "#connects the dots between the preidction and target \n",
    "for index, line in enumerate(zipped_list):\n",
    "    x = [index, index]\n",
    "    plt.plot(x, line, linestyle='--', color='green')\n",
    "    \n",
    "plt.legend(loc='upper left')"
   ]
  },
  {
   "cell_type": "code",
   "execution_count": null,
   "metadata": {},
   "outputs": [],
   "source": []
  }
 ],
 "metadata": {
  "kernelspec": {
   "display_name": "Python 3",
   "language": "python",
   "name": "python3"
  },
  "language_info": {
   "codemirror_mode": {
    "name": "ipython",
    "version": 3
   },
   "file_extension": ".py",
   "mimetype": "text/x-python",
   "name": "python",
   "nbconvert_exporter": "python",
   "pygments_lexer": "ipython3",
   "version": "3.6.9"
  }
 },
 "nbformat": 4,
 "nbformat_minor": 2
}
