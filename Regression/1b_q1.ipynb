{
 "cells": [
  {
   "cell_type": "code",
   "execution_count": 61,
   "metadata": {},
   "outputs": [],
   "source": [
    "import tensorflow as tf\n",
    "import pandas as pd\n",
    "import numpy as np\n",
    "\n",
    "from sklearn.model_selection import train_test_split\n",
    "from sklearn import preprocessing\n",
    "\n",
    "from matplotlib import pyplot as plt\n",
    "\n"
   ]
  },
  {
   "cell_type": "code",
   "execution_count": 62,
   "metadata": {},
   "outputs": [],
   "source": [
    "df = pd.read_csv(\"data/admission_predict.csv\")\n",
    "df = df.drop(['Serial No.'], axis=1)\n",
    "\n",
    "y = df['Chance of Admit'].to_numpy()\n",
    "y = np.reshape(y, (y.shape[0], 1))\n",
    "\n",
    "features = df.drop([\"Chance of Admit\"], axis=1).to_numpy()\n",
    "\n",
    "np.random.seed(1337)\n",
    "tf.set_random_seed(1337)\n",
    "\n"
   ]
  },
  {
   "cell_type": "code",
   "execution_count": 63,
   "metadata": {},
   "outputs": [],
   "source": [
    "NUM_FEATURES = 7\n",
    "NUM_NEURON = 10\n",
    "\n",
    "learning_rate = 10**-3\n",
    "beta = 10**-3\n",
    "\n",
    "epochs = 1500\n",
    "batch_size = 8\n",
    "\n"
   ]
  },
  {
   "cell_type": "code",
   "execution_count": 64,
   "metadata": {},
   "outputs": [],
   "source": [
    "x_train, x_test, y_train, y_test = train_test_split(features, y, test_size=0.3, random_state=42)"
   ]
  },
  {
   "cell_type": "code",
   "execution_count": 65,
   "metadata": {},
   "outputs": [],
   "source": [
    "scaler = preprocessing.StandardScaler()\n",
    "x_train = scaler.fit_transform(x_train)\n",
    "x_test = scaler.transform(x_test)"
   ]
  },
  {
   "cell_type": "code",
   "execution_count": 66,
   "metadata": {},
   "outputs": [],
   "source": [
    "#Create model\n",
    "#7 inputs, 1 output\n",
    "\n",
    "X = tf.placeholder(tf.float32, [None, NUM_FEATURES])\n",
    "Y = tf.placeholder(tf.float32, [None, 1])"
   ]
  },
  {
   "cell_type": "code",
   "execution_count": 67,
   "metadata": {},
   "outputs": [],
   "source": [
    "weights = {\n",
    "    'h1': tf.Variable(tf.truncated_normal([NUM_FEATURES, NUM_NEURON], seed=1337, stddev=1.0 / np.sqrt(NUM_FEATURES), dtype=tf.float32)),\n",
    "    'out': tf.Variable(tf.truncated_normal([NUM_NEURON, 1], seed=1337, stddev=1.0 / np.sqrt(NUM_FEATURES), dtype=tf.float32))# 1 ouput label\n",
    "}\n",
    "\n",
    "biases = {\n",
    "    'b1': tf.Variable(tf.random_normal([NUM_NEURON], seed=1337)),\n",
    "    'out': tf.Variable(tf.random_normal([1], seed=1337))\n",
    "}"
   ]
  },
  {
   "cell_type": "code",
   "execution_count": 68,
   "metadata": {},
   "outputs": [],
   "source": [
    "def neural_net(x):\n",
    "    #hidden layer 1\n",
    "    layer_1 = tf.add(tf.matmul(x, weights['h1']), biases['b1'])\n",
    "    layer_1 = tf.nn.relu(layer_1) #activation function\n",
    "    \n",
    "    out_layer = tf.matmul(layer_1, weights['out']) + biases['out']\n",
    "    return (out_layer)"
   ]
  },
  {
   "cell_type": "code",
   "execution_count": 69,
   "metadata": {},
   "outputs": [],
   "source": [
    "#predicted value\n",
    "Y_hat = neural_net(X)\n",
    "\n",
    "optimizer = tf.train.GradientDescentOptimizer(learning_rate)\n",
    "loss = tf.reduce_mean(tf.square(Y - Y_hat)) \n",
    "reg = tf.nn.l2_loss(weights['h1']) + tf.nn.l2_loss(weights['out'])\n",
    "\n",
    "\n",
    "train_op = optimizer.minimize(loss + reg * beta)"
   ]
  },
  {
   "cell_type": "code",
   "execution_count": 70,
   "metadata": {},
   "outputs": [
    {
     "name": "stdout",
     "output_type": "stream",
     "text": [
      "iter 0: train error 9.3, test error 8.54966\n",
      "iter 10: train error 8.02962, test error 7.36893\n",
      "iter 20: train error 6.90951, test error 6.41343\n",
      "iter 30: train error 5.3982, test error 5.58089\n",
      "iter 40: train error 4.79163, test error 4.85814\n",
      "iter 50: train error 4.15281, test error 4.24817\n",
      "iter 60: train error 4.60824, test error 3.71742\n",
      "iter 70: train error 3.31455, test error 3.24344\n",
      "iter 80: train error 3.34525, test error 2.81113\n",
      "iter 90: train error 2.41018, test error 2.44729\n",
      "iter 100: train error 1.52633, test error 2.14005\n",
      "iter 110: train error 2.41815, test error 1.86631\n",
      "iter 120: train error 1.74378, test error 1.62848\n",
      "iter 130: train error 1.51629, test error 1.41669\n",
      "iter 140: train error 1.13146, test error 1.23051\n",
      "iter 150: train error 0.647419, test error 1.07993\n",
      "iter 160: train error 0.595152, test error 0.946687\n",
      "iter 170: train error 1.05781, test error 0.826246\n",
      "iter 180: train error 0.914333, test error 0.722551\n",
      "iter 190: train error 0.55785, test error 0.63695\n",
      "iter 200: train error 0.756157, test error 0.566819\n",
      "iter 210: train error 0.681875, test error 0.502664\n",
      "iter 220: train error 0.36048, test error 0.452717\n",
      "iter 230: train error 0.554712, test error 0.411329\n",
      "iter 240: train error 0.485731, test error 0.377013\n",
      "iter 250: train error 0.272241, test error 0.348414\n",
      "iter 260: train error 0.323576, test error 0.321501\n",
      "iter 270: train error 0.364077, test error 0.3018\n",
      "iter 280: train error 0.237862, test error 0.284787\n",
      "iter 290: train error 0.217615, test error 0.270658\n",
      "iter 300: train error 0.184354, test error 0.259869\n",
      "iter 310: train error 0.157993, test error 0.25006\n",
      "iter 320: train error 0.2463, test error 0.241832\n",
      "iter 330: train error 0.397792, test error 0.235059\n",
      "iter 340: train error 0.087542, test error 0.229436\n",
      "iter 350: train error 0.223905, test error 0.223341\n",
      "iter 360: train error 0.13282, test error 0.218982\n",
      "iter 370: train error 0.117383, test error 0.214646\n",
      "iter 380: train error 0.25551, test error 0.210051\n",
      "iter 390: train error 0.13289, test error 0.206748\n",
      "iter 400: train error 0.0809177, test error 0.204805\n",
      "iter 410: train error 0.197167, test error 0.201126\n",
      "iter 420: train error 0.273811, test error 0.200736\n",
      "iter 430: train error 0.197196, test error 0.199159\n",
      "iter 440: train error 0.0930572, test error 0.195476\n",
      "iter 450: train error 0.392799, test error 0.192712\n",
      "iter 460: train error 0.204687, test error 0.189355\n",
      "iter 470: train error 0.104856, test error 0.187732\n",
      "iter 480: train error 0.130543, test error 0.185614\n",
      "iter 490: train error 0.154909, test error 0.185313\n",
      "iter 500: train error 0.236594, test error 0.184467\n",
      "iter 510: train error 0.18589, test error 0.183416\n",
      "iter 520: train error 0.111666, test error 0.180731\n",
      "iter 530: train error 0.079784, test error 0.181681\n",
      "iter 540: train error 0.149973, test error 0.180595\n",
      "iter 550: train error 0.123399, test error 0.178185\n",
      "iter 560: train error 0.103592, test error 0.172869\n",
      "iter 570: train error 0.342054, test error 0.170746\n",
      "iter 580: train error 0.102967, test error 0.169358\n",
      "iter 590: train error 0.0802124, test error 0.168431\n",
      "iter 600: train error 0.0537846, test error 0.16775\n",
      "iter 610: train error 0.106999, test error 0.16789\n",
      "iter 620: train error 0.0566956, test error 0.166684\n",
      "iter 630: train error 0.100647, test error 0.164283\n",
      "iter 640: train error 0.116017, test error 0.163119\n",
      "iter 650: train error 0.121122, test error 0.161188\n",
      "iter 660: train error 0.105696, test error 0.160295\n",
      "iter 670: train error 0.122754, test error 0.159322\n",
      "iter 680: train error 0.202793, test error 0.155208\n",
      "iter 690: train error 0.295445, test error 0.153925\n",
      "iter 700: train error 0.0796602, test error 0.152696\n",
      "iter 710: train error 0.0944905, test error 0.150433\n",
      "iter 720: train error 0.099739, test error 0.149792\n",
      "iter 730: train error 0.0699383, test error 0.148656\n",
      "iter 740: train error 0.122693, test error 0.148416\n",
      "iter 750: train error 0.141105, test error 0.146323\n",
      "iter 760: train error 0.171114, test error 0.145427\n",
      "iter 770: train error 0.142626, test error 0.144072\n",
      "iter 780: train error 0.0535561, test error 0.143893\n",
      "iter 790: train error 0.0935681, test error 0.143785\n",
      "iter 800: train error 0.126629, test error 0.142303\n",
      "iter 810: train error 0.371819, test error 0.141209\n",
      "iter 820: train error 0.0504989, test error 0.140905\n",
      "iter 830: train error 0.0950765, test error 0.140533\n",
      "iter 840: train error 0.113129, test error 0.139463\n",
      "iter 850: train error 0.134854, test error 0.139237\n",
      "iter 860: train error 0.120174, test error 0.136804\n",
      "iter 870: train error 0.140333, test error 0.136397\n",
      "iter 880: train error 0.0882767, test error 0.135473\n",
      "iter 890: train error 0.0592266, test error 0.134185\n",
      "iter 900: train error 0.094749, test error 0.133315\n",
      "iter 910: train error 0.311998, test error 0.131649\n",
      "iter 920: train error 0.1495, test error 0.132163\n",
      "iter 930: train error 0.121491, test error 0.130833\n",
      "iter 940: train error 0.034447, test error 0.130406\n",
      "iter 950: train error 0.06392, test error 0.129515\n",
      "iter 960: train error 0.0918631, test error 0.12938\n",
      "iter 970: train error 0.115119, test error 0.129651\n",
      "iter 980: train error 0.0290633, test error 0.12935\n",
      "iter 990: train error 0.141772, test error 0.128254\n",
      "iter 1000: train error 0.160033, test error 0.127479\n",
      "iter 1010: train error 0.23478, test error 0.126297\n",
      "iter 1020: train error 0.0621086, test error 0.126789\n",
      "iter 1030: train error 0.0820766, test error 0.126836\n",
      "iter 1040: train error 0.0645002, test error 0.126192\n",
      "iter 1050: train error 0.185605, test error 0.125099\n",
      "iter 1060: train error 0.0762454, test error 0.126505\n",
      "iter 1070: train error 0.0614639, test error 0.125118\n",
      "iter 1080: train error 0.0990416, test error 0.124261\n",
      "iter 1090: train error 0.0287902, test error 0.123863\n",
      "iter 1100: train error 0.121908, test error 0.123717\n",
      "iter 1110: train error 0.058322, test error 0.123933\n",
      "iter 1120: train error 0.0270136, test error 0.123559\n",
      "iter 1130: train error 0.0226062, test error 0.122313\n",
      "iter 1140: train error 0.185062, test error 0.120494\n",
      "iter 1150: train error 0.0768139, test error 0.119923\n",
      "iter 1160: train error 0.130858, test error 0.11915\n",
      "iter 1170: train error 0.198987, test error 0.117374\n",
      "iter 1180: train error 0.0263518, test error 0.116882\n",
      "iter 1190: train error 0.0742501, test error 0.116266\n",
      "iter 1200: train error 0.1023, test error 0.115748\n",
      "iter 1210: train error 0.0851389, test error 0.115206\n",
      "iter 1220: train error 0.136341, test error 0.114619\n",
      "iter 1230: train error 0.0495111, test error 0.114392\n",
      "iter 1240: train error 0.0687046, test error 0.112927\n",
      "iter 1250: train error 0.0532114, test error 0.110991\n",
      "iter 1260: train error 0.0403651, test error 0.109977\n",
      "iter 1270: train error 0.0875319, test error 0.109614\n",
      "iter 1280: train error 0.0445198, test error 0.108947\n",
      "iter 1290: train error 0.0683792, test error 0.10763\n",
      "iter 1300: train error 0.0608938, test error 0.107841\n",
      "iter 1310: train error 0.0519267, test error 0.107428\n",
      "iter 1320: train error 0.084943, test error 0.107006\n",
      "iter 1330: train error 0.196564, test error 0.105099\n",
      "iter 1340: train error 0.0704622, test error 0.10496\n",
      "iter 1350: train error 0.118306, test error 0.104509\n",
      "iter 1360: train error 0.0585029, test error 0.103995\n",
      "iter 1370: train error 0.0606232, test error 0.103995\n",
      "iter 1380: train error 0.0565124, test error 0.103106\n",
      "iter 1390: train error 0.0426911, test error 0.102806\n",
      "iter 1400: train error 0.0818706, test error 0.103322\n",
      "iter 1410: train error 0.0708925, test error 0.102822\n",
      "iter 1420: train error 0.117436, test error 0.101451\n",
      "iter 1430: train error 0.0457659, test error 0.101251\n",
      "iter 1440: train error 0.109262, test error 0.0993279\n",
      "iter 1450: train error 0.0813935, test error 0.099473\n",
      "iter 1460: train error 0.0725914, test error 0.0992024\n",
      "iter 1470: train error 0.250153, test error 0.099062\n",
      "iter 1480: train error 0.0416436, test error 0.0986337\n",
      "iter 1490: train error 0.046181, test error 0.0987721\n"
     ]
    }
   ],
   "source": [
    "#Train the model with x-train\n",
    "with tf.Session() as sess:\n",
    "    sess.run(tf.global_variables_initializer())\n",
    "    batch_train_err = []\n",
    "    test_err = []\n",
    "    for i in range(epochs):\n",
    "        \n",
    "        #Batch training\n",
    "        #pick random batch_size data points from x_train\n",
    "        rand_index = np.random.choice(x_train.shape[0], size=batch_size)\n",
    "        x_batch = x_train[rand_index]\n",
    "        y_batch = y_train[rand_index]\n",
    "        \n",
    "        train_op.run(feed_dict={X:x_batch, Y:y_batch})\n",
    "        err = loss.eval(feed_dict={X: x_batch, Y: y_batch})\n",
    "          \n",
    "        if(i%10==0):\n",
    "            batch_train_err.append(err)\n",
    "            \n",
    "            #For Q1a)\n",
    "            test_err.append(loss.eval(feed_dict={X: x_test, Y: y_test}))   \n",
    "            print('iter %d: train error %g, test error %g'%(i, batch_train_err[-1], test_err[-1]))\n",
    "             \n",
    "    \n",
    "    \n",
    "    #Q1c) Select 50 x_test samples\n",
    "    sample_index = np.random.choice(x_test.shape[0], size=50)\n",
    "    x_test_sample = x_test[sample_index]\n",
    "    y_test_sample = y_test[sample_index]\n",
    "    #plot y_hat and y_test\n",
    "\n",
    "    pred = sess.run(Y_hat, feed_dict={X:x_test_sample})\n"
   ]
  },
  {
   "cell_type": "code",
   "execution_count": 71,
   "metadata": {},
   "outputs": [
    {
     "data": {
      "text/plain": [
       "<matplotlib.legend.Legend at 0x186e89efe48>"
      ]
     },
     "execution_count": 71,
     "metadata": {},
     "output_type": "execute_result"
    },
    {
     "data": {
      "image/png": "[encoded data removed]",
      "text/plain": [
       "<Figure size 432x288 with 1 Axes>"
      ]
     },
     "metadata": {
      "needs_background": "light"
     },
     "output_type": "display_data"
    }
   ],
   "source": [
    "#Q1a plot train err against test err\n",
    "plt.plot(range(0, epochs, 10), batch_train_err, color='blue', label='Train Error')\n",
    "plt.plot(range(0, epochs, 10), test_err, color ='red', label='Test Error')\n",
    "plt.legend(loc='upper left')"
   ]
  },
  {
   "cell_type": "code",
   "execution_count": 72,
   "metadata": {},
   "outputs": [
    {
     "data": {
      "text/plain": [
       "<matplotlib.legend.Legend at 0x186e86a2b48>"
      ]
     },
     "execution_count": 72,
     "metadata": {},
     "output_type": "execute_result"
    },
    {
     "data": {
      "image/png": "[encoded data removed]",
      "text/plain": [
       "<Figure size 1440x360 with 1 Axes>"
      ]
     },
     "metadata": {
      "needs_background": "light"
     },
     "output_type": "display_data"
    }
   ],
   "source": [
    "plt.figure(figsize=(20,5))\n",
    "\n",
    "plt.plot(pred, color='blue', linestyle='', marker='o', label='Test Predictions')\n",
    "plt.plot(y_test_sample, color='red', linestyle='', marker='x', label='Test Target')\n",
    "\n",
    "zipped_list = zip(pred.tolist(), y_test_sample.tolist())\n",
    "\n",
    "\n",
    "#connects the dots between the preidction and target \n",
    "for index, line in enumerate(zipped_list):\n",
    "    x = [index, index]\n",
    "    plt.plot(x, line, linestyle='--', color='green')\n",
    "    \n",
    "plt.legend(loc='upper left')"
   ]
  }
 ],
 "metadata": {
  "kernelspec": {
   "display_name": "Python 3",
   "language": "python",
   "name": "python3"
  },
  "language_info": {
   "codemirror_mode": {
    "name": "ipython",
    "version": 3
   },
   "file_extension": ".py",
   "mimetype": "text/x-python",
   "name": "python",
   "nbconvert_exporter": "python",
   "pygments_lexer": "ipython3",
   "version": "3.7.4"
  }
 },
 "nbformat": 4,
 "nbformat_minor": 2
}
