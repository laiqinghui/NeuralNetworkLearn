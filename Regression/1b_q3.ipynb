{
 "cells": [
  {
   "cell_type": "code",
   "execution_count": 58,
   "metadata": {},
   "outputs": [],
   "source": [
    "import tensorflow as tf\n",
    "import pandas as pd\n",
    "from sklearn.model_selection import train_test_split\n",
    "\n",
    "import numpy as np\n",
    "\n",
    "from sklearn.linear_model import LinearRegression\n",
    "from sklearn.feature_selection import RFE"
   ]
  },
  {
   "cell_type": "code",
   "execution_count": 59,
   "metadata": {},
   "outputs": [],
   "source": [
    "df = pd.read_csv(\"data/admission_predict.csv\")\n",
    "df = df.drop(['Serial No.'], axis=1)\n",
    "\n",
    "features = df.drop([\"Chance of Admit\"], axis=1)\n",
    "y = df['Chance of Admit']\n"
   ]
  },
  {
   "cell_type": "code",
   "execution_count": 60,
   "metadata": {},
   "outputs": [
    {
     "name": "stdout",
     "output_type": "stream",
     "text": [
      "Optimum number of features: 6\n",
      "Score with 6 features: 0.796003\n"
     ]
    }
   ],
   "source": [
    "#no of features\n",
    "high_score=0\n",
    "#Variable to store the optimum features\n",
    "nof=0           \n",
    "score_list =[]\n",
    "\n",
    "#Stores feature ranking from rfe. \n",
    "rfe_ranking = []\n",
    "for n in range(5, 7):\n",
    "    X_train, X_test, y_train, y_test = train_test_split(features,y, test_size = 0.3, random_state = 42)\n",
    "    model = LinearRegression()\n",
    "    rfe = RFE(model,n) #second arg is number of features to select\n",
    "    X_train_rfe = rfe.fit_transform(X_train,y_train)\n",
    "    X_test_rfe = rfe.transform(X_test)\n",
    "    model.fit(X_train_rfe,y_train)\n",
    "    score = model.score(X_test_rfe,y_test)\n",
    "    score_list.append(score)\n",
    "    \n",
    "    \n",
    "    rfe_ranking.append(rfe.ranking_)\n",
    "    \n",
    "    if(score>high_score):\n",
    "        high_score = score\n",
    "        nof = n\n",
    "        \n",
    "print(\"Optimum number of features: %d\" %nof)\n",
    "print(\"Score with %d features: %f\" % (nof, high_score))"
   ]
  },
  {
   "cell_type": "code",
   "execution_count": 61,
   "metadata": {},
   "outputs": [
    {
     "name": "stdout",
     "output_type": "stream",
     "text": [
      "[2 1 1 3 1 1 1]\n",
      "[1 1 1 2 1 1 1]\n"
     ]
    }
   ],
   "source": [
    "print(rfe_ranking[0])\n",
    "print(rfe_ranking[1])"
   ]
  },
  {
   "cell_type": "code",
   "execution_count": 62,
   "metadata": {},
   "outputs": [
    {
     "name": "stdout",
     "output_type": "stream",
     "text": [
      "5 Features Selected with RFE:\n",
      "TOEFL Score\n",
      "University Rating\n",
      "LOR\n",
      "CGPA\n",
      "Research\n",
      "\n",
      "Dropped features:\n",
      "GRE Score\n",
      "SOP\n",
      "\n",
      "#########\n",
      "\n",
      "6 Features Selected with RFE:\n",
      "GRE Score\n",
      "TOEFL Score\n",
      "University Rating\n",
      "LOR\n",
      "CGPA\n",
      "Research\n",
      "\n",
      "Dropped features:\n",
      "SOP\n"
     ]
    }
   ],
   "source": [
    "#5 features selected\n",
    "        \n",
    "print(\"5 Features Selected with RFE:\")\n",
    "    \n",
    "for i in range (len(rfe_ranking[0])):\n",
    "    #selected feature\n",
    "    if (rfe_ranking[0][i] == 1): \n",
    "        print(df.columns[i])\n",
    "\n",
    "print(\"\\nDropped features:\")        \n",
    "for i in range (len(rfe_ranking[0])):\n",
    "    if(rfe_ranking[0][i] > 1):\n",
    "        print(df.columns[i])\n",
    "        \n",
    "\n",
    "        \n",
    "print(\"\\n#########\\n\")\n",
    "print(\"6 Features Selected with RFE:\")\n",
    "#6 features selected\n",
    "for i in range (len(rfe_ranking[1])):\n",
    "    #selected feature\n",
    "    if (rfe_ranking[1][i] == 1): \n",
    "        print(df.columns[i])\n",
    "        \n",
    "print(\"\\nDropped features:\")        \n",
    "for i in range (len(rfe_ranking[1])):\n",
    "    if(rfe_ranking[1][i] > 1):\n",
    "        print(df.columns[i])"
   ]
  },
  {
   "cell_type": "code",
   "execution_count": null,
   "metadata": {},
   "outputs": [],
   "source": []
  }
 ],
 "metadata": {
  "kernelspec": {
   "display_name": "Python 3",
   "language": "python",
   "name": "python3"
  },
  "language_info": {
   "codemirror_mode": {
    "name": "ipython",
    "version": 3
   },
   "file_extension": ".py",
   "mimetype": "text/x-python",
   "name": "python",
   "nbconvert_exporter": "python",
   "pygments_lexer": "ipython3",
   "version": "3.7.4"
  }
 },
 "nbformat": 4,
 "nbformat_minor": 2
}
