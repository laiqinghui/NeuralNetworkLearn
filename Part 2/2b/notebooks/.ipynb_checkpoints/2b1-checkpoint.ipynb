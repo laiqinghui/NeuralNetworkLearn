{
 "cells": [
  {
   "cell_type": "code",
   "execution_count": 127,
   "metadata": {},
   "outputs": [
    {
     "name": "stdout",
     "output_type": "stream",
     "text": [
      "no display found. Using non-interactive Agg backend\n"
     ]
    }
   ],
   "source": [
    "import numpy as np\n",
    "import pandas\n",
    "import tensorflow as tf\n",
    "import csv\n",
    "import os\n",
    "import matplotlib as mpl\n",
    "if os.environ.get('DISPLAY','') == '':\n",
    "    print('no display found. Using non-interactive Agg backend')\n",
    "    mpl.use('Agg')\n",
    "import matplotlib.pyplot as plt"
   ]
  },
  {
   "cell_type": "code",
   "execution_count": 109,
   "metadata": {},
   "outputs": [],
   "source": [
    "MAX_DOCUMENT_LENGTH = 100\n",
    "N_FILTERS = 10\n",
    "FILTER_SHAPE1 = [20, 256]\n",
    "FILTER_SHAPE2 = [20, 1]\n",
    "\n",
    "POOLING_WINDOW = 4\n",
    "POOLING_STRIDE = 2\n",
    "MAX_LABEL = 15\n",
    "\n",
    "BATCH_SIZE = 128\n",
    "\n",
    "no_epochs = 1000\n",
    "lr = 0.01\n",
    "\n",
    "tf.logging.set_verbosity(tf.logging.ERROR)\n",
    "seed = 10\n",
    "tf.set_random_seed(seed)"
   ]
  },
  {
   "cell_type": "code",
   "execution_count": 110,
   "metadata": {},
   "outputs": [],
   "source": [
    "\n",
    "def read_data_chars():\n",
    "  \n",
    "  x_train, y_train, x_test, y_test = [], [], [], []\n",
    "\n",
    "  with open('train_medium.csv', encoding='utf-8') as filex:\n",
    "    reader = csv.reader(filex)\n",
    "    for row in reader:\n",
    "      x_train.append(row[1])\n",
    "      y_train.append(int(row[0]))\n",
    "\n",
    "  with open('test_medium.csv', encoding='utf-8') as filex:\n",
    "    reader = csv.reader(filex)\n",
    "    for row in reader:\n",
    "      x_test.append(row[1])\n",
    "      y_test.append(int(row[0]))\n",
    "  \n",
    "  x_train = pandas.Series(x_train)\n",
    "  y_train = pandas.Series(y_train)\n",
    "  x_test = pandas.Series(x_test)\n",
    "  y_test = pandas.Series(y_test)\n",
    "  \n",
    "  \n",
    "  char_processor = tf.contrib.learn.preprocessing.ByteProcessor(MAX_DOCUMENT_LENGTH)\n",
    "  x_train = np.array(list(char_processor.fit_transform(x_train)))\n",
    "  x_test = np.array(list(char_processor.transform(x_test)))\n",
    "  y_train = y_train.values\n",
    "  y_test = y_test.values\n",
    "  \n",
    "  return x_train, y_train, x_test, y_test\n",
    "\n",
    " "
   ]
  },
  {
   "cell_type": "code",
   "execution_count": 111,
   "metadata": {},
   "outputs": [],
   "source": [
    "\n",
    "def char_cnn_model(x):\n",
    "  \n",
    "  input_layer = tf.reshape(\n",
    "      tf.one_hot(x, 256), [-1, MAX_DOCUMENT_LENGTH, 256, 1])\n",
    "\n",
    "    \n",
    "  with tf.variable_scope('CNN_Layer1'):\n",
    "    \n",
    "    conv1 = tf.layers.conv2d(\n",
    "        input_layer,\n",
    "        filters=N_FILTERS,\n",
    "        kernel_size=FILTER_SHAPE1,\n",
    "        padding='VALID',\n",
    "        activation=tf.nn.relu)\n",
    "    \n",
    "    pool1 = tf.layers.max_pooling2d(\n",
    "        conv1,\n",
    "        pool_size=POOLING_WINDOW,\n",
    "        strides=POOLING_STRIDE,\n",
    "        padding='SAME')\n",
    "\n",
    "    conv2 = tf.layers.conv2d(\n",
    "        pool1,\n",
    "        filters=N_FILTERS,\n",
    "        kernel_size=FILTER_SHAPE2,\n",
    "        padding='VALID',\n",
    "        activation=tf.nn.relu)\n",
    "    \n",
    "    pool2 = tf.layers.max_pooling2d(\n",
    "        conv2,\n",
    "        pool_size=POOLING_WINDOW,\n",
    "        strides=POOLING_STRIDE,\n",
    "        padding='SAME')\n",
    "\n",
    "    pool2 = tf.squeeze(tf.reduce_max(pool2, 1), squeeze_dims=[1]) \n",
    "\n",
    "  logits = tf.layers.dense(pool2, MAX_LABEL, activation=None)\n",
    "\n",
    "  return input_layer, logits\n",
    "\n"
   ]
  },
  {
   "cell_type": "code",
   "execution_count": 115,
   "metadata": {
    "scrolled": false
   },
   "outputs": [
    {
     "name": "stdout",
     "output_type": "stream",
     "text": [
      "5600\n",
      "700\n",
      "(5600, 100)\n",
      "iter: 0, entropy: 2.71039, accuracy: 0.0714286\n",
      "iter: 1, entropy: 2.70307, accuracy: 0.0814286\n",
      "iter: 2, entropy: 2.71126, accuracy: 0.0728571\n",
      "iter: 3, entropy: 2.69058, accuracy: 0.0757143\n",
      "iter: 4, entropy: 2.70311, accuracy: 0.0928571\n",
      "iter: 5, entropy: 2.70025, accuracy: 0.0928571\n",
      "iter: 6, entropy: 2.6813, accuracy: 0.0985714\n",
      "iter: 7, entropy: 2.6623, accuracy: 0.111429\n",
      "iter: 8, entropy: 2.63395, accuracy: 0.124286\n",
      "iter: 9, entropy: 2.67877, accuracy: 0.134286\n",
      "iter: 10, entropy: 2.59656, accuracy: 0.138571\n",
      "iter: 11, entropy: 2.66612, accuracy: 0.138571\n",
      "iter: 12, entropy: 2.61757, accuracy: 0.127143\n",
      "iter: 13, entropy: 2.54433, accuracy: 0.131429\n",
      "iter: 14, entropy: 2.51158, accuracy: 0.134286\n",
      "iter: 15, entropy: 2.57502, accuracy: 0.14\n",
      "iter: 16, entropy: 2.60842, accuracy: 0.131429\n",
      "iter: 17, entropy: 2.49767, accuracy: 0.134286\n",
      "iter: 18, entropy: 2.6305, accuracy: 0.137143\n",
      "iter: 19, entropy: 2.5009, accuracy: 0.142857\n",
      "iter: 20, entropy: 2.50805, accuracy: 0.145714\n",
      "iter: 21, entropy: 2.58209, accuracy: 0.158571\n",
      "iter: 22, entropy: 2.49043, accuracy: 0.164286\n",
      "iter: 23, entropy: 2.4851, accuracy: 0.175714\n",
      "iter: 24, entropy: 2.49899, accuracy: 0.182857\n",
      "iter: 25, entropy: 2.45046, accuracy: 0.184286\n",
      "iter: 26, entropy: 2.52405, accuracy: 0.182857\n",
      "iter: 27, entropy: 2.50682, accuracy: 0.188571\n",
      "iter: 28, entropy: 2.38016, accuracy: 0.214286\n",
      "iter: 29, entropy: 2.35756, accuracy: 0.205714\n",
      "iter: 30, entropy: 2.32813, accuracy: 0.191429\n",
      "iter: 31, entropy: 2.38865, accuracy: 0.185714\n",
      "iter: 32, entropy: 2.37737, accuracy: 0.215714\n",
      "iter: 33, entropy: 2.33326, accuracy: 0.202857\n",
      "iter: 34, entropy: 2.48306, accuracy: 0.192857\n",
      "iter: 35, entropy: 2.22965, accuracy: 0.195714\n",
      "iter: 36, entropy: 2.36736, accuracy: 0.205714\n",
      "iter: 37, entropy: 2.21799, accuracy: 0.228571\n",
      "iter: 38, entropy: 2.25981, accuracy: 0.225714\n",
      "iter: 39, entropy: 2.27526, accuracy: 0.221429\n",
      "iter: 40, entropy: 2.22113, accuracy: 0.215714\n",
      "iter: 41, entropy: 2.20663, accuracy: 0.198571\n",
      "iter: 42, entropy: 2.20679, accuracy: 0.21\n",
      "iter: 43, entropy: 2.33674, accuracy: 0.217143\n",
      "iter: 44, entropy: 2.23796, accuracy: 0.207143\n",
      "iter: 45, entropy: 2.13515, accuracy: 0.231429\n",
      "iter: 46, entropy: 2.23906, accuracy: 0.234286\n",
      "iter: 47, entropy: 2.18392, accuracy: 0.225714\n",
      "iter: 48, entropy: 2.26429, accuracy: 0.224286\n",
      "iter: 49, entropy: 2.11118, accuracy: 0.242857\n",
      "iter: 50, entropy: 2.1515, accuracy: 0.254286\n",
      "iter: 51, entropy: 2.09489, accuracy: 0.261429\n",
      "iter: 52, entropy: 2.06586, accuracy: 0.258571\n",
      "iter: 53, entropy: 2.16029, accuracy: 0.255714\n",
      "iter: 54, entropy: 2.03325, accuracy: 0.241429\n",
      "iter: 55, entropy: 2.0892, accuracy: 0.26\n",
      "iter: 56, entropy: 2.04488, accuracy: 0.274286\n",
      "iter: 57, entropy: 2.05205, accuracy: 0.27\n",
      "iter: 58, entropy: 1.98686, accuracy: 0.268571\n",
      "iter: 59, entropy: 2.06865, accuracy: 0.278571\n",
      "iter: 60, entropy: 1.93883, accuracy: 0.285714\n",
      "iter: 61, entropy: 2.03257, accuracy: 0.275714\n",
      "iter: 62, entropy: 2.01957, accuracy: 0.271429\n",
      "iter: 63, entropy: 1.8891, accuracy: 0.262857\n",
      "iter: 64, entropy: 2.10766, accuracy: 0.25\n",
      "iter: 65, entropy: 2.05342, accuracy: 0.251429\n",
      "iter: 66, entropy: 1.95806, accuracy: 0.264286\n",
      "iter: 67, entropy: 1.88976, accuracy: 0.254286\n",
      "iter: 68, entropy: 1.794, accuracy: 0.261429\n",
      "iter: 69, entropy: 1.89604, accuracy: 0.26\n",
      "iter: 70, entropy: 2.01728, accuracy: 0.265714\n",
      "iter: 71, entropy: 1.88069, accuracy: 0.26\n",
      "iter: 72, entropy: 1.81924, accuracy: 0.27\n",
      "iter: 73, entropy: 2.07636, accuracy: 0.28\n",
      "iter: 74, entropy: 1.97914, accuracy: 0.288571\n",
      "iter: 75, entropy: 1.87769, accuracy: 0.284286\n",
      "iter: 76, entropy: 2.04326, accuracy: 0.282857\n",
      "iter: 77, entropy: 2.15218, accuracy: 0.301429\n",
      "iter: 78, entropy: 1.90582, accuracy: 0.3\n",
      "iter: 79, entropy: 2.12465, accuracy: 0.301429\n",
      "iter: 80, entropy: 1.89906, accuracy: 0.29\n",
      "iter: 81, entropy: 1.86711, accuracy: 0.277143\n",
      "iter: 82, entropy: 1.84148, accuracy: 0.271429\n",
      "iter: 83, entropy: 1.80303, accuracy: 0.268571\n",
      "iter: 84, entropy: 1.81905, accuracy: 0.29\n",
      "iter: 85, entropy: 1.66356, accuracy: 0.294286\n",
      "iter: 86, entropy: 1.91786, accuracy: 0.301429\n",
      "iter: 87, entropy: 1.91435, accuracy: 0.31\n",
      "iter: 88, entropy: 1.84597, accuracy: 0.305714\n",
      "iter: 89, entropy: 1.8455, accuracy: 0.305714\n",
      "iter: 90, entropy: 1.79228, accuracy: 0.307143\n",
      "iter: 91, entropy: 1.72167, accuracy: 0.294286\n",
      "iter: 92, entropy: 1.79757, accuracy: 0.302857\n",
      "iter: 93, entropy: 1.8328, accuracy: 0.318571\n",
      "iter: 94, entropy: 1.78993, accuracy: 0.324286\n",
      "iter: 95, entropy: 1.7934, accuracy: 0.324286\n",
      "iter: 96, entropy: 1.66546, accuracy: 0.33\n",
      "iter: 97, entropy: 1.90693, accuracy: 0.337143\n",
      "iter: 98, entropy: 1.74814, accuracy: 0.331429\n",
      "iter: 99, entropy: 1.76608, accuracy: 0.351429\n"
     ]
    }
   ],
   "source": [
    "tf.reset_default_graph()\n",
    "\n",
    "x_train, y_train, x_test, y_test = read_data_chars()\n",
    "\n",
    "print(len(x_train))\n",
    "print(len(x_test))\n",
    "\n",
    "# Create the model\n",
    "x = tf.placeholder(tf.int64, [None, MAX_DOCUMENT_LENGTH])\n",
    "y_ = tf.placeholder(tf.int64)\n",
    "\n",
    "inputs, logits = char_cnn_model(x)\n",
    "\n",
    "# Optimizer\n",
    "entropy = tf.reduce_mean(tf.nn.softmax_cross_entropy_with_logits_v2(labels=tf.one_hot(y_, MAX_LABEL), logits=logits))\n",
    "train_op = tf.train.AdamOptimizer(lr).minimize(entropy)\n",
    "\n",
    "# Accuracy\n",
    "correct_prediction = tf.equal(tf.argmax(logits, 1), tf.argmax(tf.one_hot(y_, MAX_LABEL), 1))\n",
    "correct_prediction = tf.cast(correct_prediction, tf.float32)\n",
    "accuracy = tf.reduce_mean(correct_prediction)\n",
    "\n",
    "with tf.Session() as sess:\n",
    "    sess.run(tf.global_variables_initializer())\n",
    "\n",
    "    # training\n",
    "    loss = []\n",
    "    test_acc = []\n",
    "\n",
    "    for e in range(no_epochs):\n",
    "\n",
    "        rand_index = np.random.choice(x_train.shape[0], size=BATCH_SIZE)\n",
    "        x_batch = x_train[rand_index]\n",
    "        y_batch = y_train[rand_index]\n",
    "\n",
    "        if(e==0):\n",
    "            print(x_train.shape)\n",
    "\n",
    "        _, loss_  = sess.run([train_op, entropy], {x: x_batch, y_: y_batch})\n",
    "        loss.append(loss_)\n",
    "\n",
    "\n",
    "        test_acc.append(accuracy.eval(feed_dict={x: x_test, y_: y_test}))\n",
    "\n",
    "\n",
    "        if e%1 == 0:\n",
    "            print('iter: %d, entropy: %g, accuracy: %g'%(e, loss[e], test_acc[e]))\n",
    "\n"
   ]
  },
  {
   "cell_type": "code",
   "execution_count": 133,
   "metadata": {
    "scrolled": true
   },
   "outputs": [
    {
     "data": {
      "image/png": "[encoded data removed]",
      "text/plain": [
       "<Figure size 432x288 with 1 Axes>"
      ]
     },
     "metadata": {
      "needs_background": "light"
     },
     "output_type": "display_data"
    }
   ],
   "source": [
    "plt.figure(1)\n",
    "plt.plot(range(no_epochs), loss, 'r' ,label=\"Training Loss\")\n",
    "plt.xlabel('epochs')\n",
    "plt.ylabel('loss')\n",
    "plt.title('Training Loss')\n",
    "#plt.savefig('q1figs/loss.png')\n",
    "plt.savefig(\"q1figs/loss.png\")"
   ]
  },
  {
   "cell_type": "code",
   "execution_count": 134,
   "metadata": {},
   "outputs": [
    {
     "data": {
      "image/png": "[encoded data removed]",
      "text/plain": [
       "<Figure size 432x288 with 1 Axes>"
      ]
     },
     "metadata": {
      "needs_background": "light"
     },
     "output_type": "display_data"
    }
   ],
   "source": [
    "plt.figure(2)\n",
    "plt.plot(range(no_epochs), test_acc, 'g' ,label=\"Test Accuracy\")\n",
    "plt.xlabel('epochs')\n",
    "plt.ylabel('Accuracy')\n",
    "plt.title('Test Accuracy')\n",
    "#plt.savefig('q1figs/loss.png')\n",
    "plt.savefig(\"q1figs/accuracy.png\")"
   ]
  },
  {
   "cell_type": "code",
   "execution_count": null,
   "metadata": {},
   "outputs": [],
   "source": []
  }
 ],
 "metadata": {
  "kernelspec": {
   "display_name": "Python 3",
   "language": "python",
   "name": "python3"
  },
  "language_info": {
   "codemirror_mode": {
    "name": "ipython",
    "version": 3
   },
   "file_extension": ".py",
   "mimetype": "text/x-python",
   "name": "python",
   "nbconvert_exporter": "python",
   "pygments_lexer": "ipython3",
   "version": "3.7.4"
  }
 },
 "nbformat": 4,
 "nbformat_minor": 2
}
